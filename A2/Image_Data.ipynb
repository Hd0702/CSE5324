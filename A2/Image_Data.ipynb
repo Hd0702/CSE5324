{
 "cells": [
  {
   "cell_type": "markdown",
   "metadata": {},
   "source": [
    " ## Flow and Possible Ideas\n",
    " - Show bar chart of the number of paintings by each artist\n",
    " - Use DAISY for geometric patterns\n",
    " - Find some process for analyzing color in the images (color feature extraction)\n",
    " - Find which two paintings are most similar, like the faces.\n",
    " - Pull some paintings out from each or a couple artists. After building model, run these through to see if the model correctly recognizes the artist\n",
    " - Run a painting from a different artist through the model to see if we can determine similar genres\n",
    " - Can we find a painting from someone not in the set to run through and see who it is most similar to?"
   ]
  },
  {
   "cell_type": "markdown",
   "metadata": {},
   "source": [
    "# Lab Assignment Two: Exploring Image Data\n",
    "by:\n",
    "* Hayden Donofrio\n",
    "* Riley Bates\n",
    "* Chandler Choate"
   ]
  },
  {
   "cell_type": "markdown",
   "metadata": {},
   "source": [
    "## Section 1: Business Understanding\n"
   ]
  },
  {
   "cell_type": "markdown",
   "metadata": {},
   "source": [
    "For this lab on exploring image data, our group chose a dataset called [The Best Artworks of All Time,](https://www.kaggle.com/ikarus777/best-artworks-of-all-time) which is comprised of various pieces from 50 artists that the creator suggested as the most influential of all time. In addition to the images of these paintings, the dataset also includes data on each of the artists, such as the genre(s) or artistic movement that they were associated with, their nationality, a brief biography scraped from wikipedia, and the number of their paintings included in the dataset.\n",
    "\n",
    "The most exciting opportunities for this dataset would be classifying images by artist or genre through geometric patterns and/or colors. For example, we would be able to upload a picture (not from one of the 50 artists) and run it through our model to determine which artist it is most similar to. Alternatively, we could determine the genre that the picture is the closest to, such as Expression or Surrealism. This would be very interesting to the artistic community; for example, a fine arts department at a university could use our model in order to analyze their students work and determine which well-known artist their work is most similar. Our model could also be used to determine the similarity of the artists in the dataset and to what degree of confidence from clustering in the model.\n",
    "\n",
    "Our model could be tested with other works of art by these 50 artists that are not included in the dataset. Additionally, it could be tested against different artists that were widely considered to be a part of the same genre. To be of interest to the artistic and educational communities however, our model would have to perform fairly well. Although difficult to quantify performance, we would desire a high degree of confidence or percentage similarity between two pieces. Although art is largely subjective, our model may be a way to study art more deterministically and numerically. \n",
    "\n",
    "In addition to the base similarity result, the reasoning between the model's prediction may need to be given to be of use to the artistic community. For example, knowing that a student's painting is similar to a work by Dali may not be helpful in of itself, unless they know that this is based on the use of certain geometric patterns, etc."
   ]
  },
  {
   "cell_type": "markdown",
   "metadata": {},
   "source": [
    "## Section 2: Data Preparation"
   ]
  },
  {
   "cell_type": "markdown",
   "metadata": {},
   "source": [
    "[Color Identification](https://towardsdatascience.com/color-identification-in-images-machine-learning-application-b26e770c4c71)\n",
    "<br>\n",
    "[Read image files into numpy arrays](https://www.kaggle.com/lgmoneda/from-image-files-to-numpy-arrays)"
   ]
  },
  {
   "cell_type": "markdown",
   "metadata": {},
   "source": [
    "### Read in images as numpy arrays then resize and recolor"
   ]
  },
  {
   "cell_type": "code",
   "execution_count": null,
   "metadata": {},
   "outputs": [],
   "source": []
  },
  {
   "cell_type": "markdown",
   "metadata": {},
   "source": [
    "### Linearize images to create 1-D image feature table"
   ]
  },
  {
   "cell_type": "code",
   "execution_count": null,
   "metadata": {},
   "outputs": [],
   "source": []
  },
  {
   "cell_type": "markdown",
   "metadata": {},
   "source": [
    "### Example image visualizations"
   ]
  },
  {
   "cell_type": "code",
   "execution_count": null,
   "metadata": {},
   "outputs": [],
   "source": []
  },
  {
   "cell_type": "markdown",
   "metadata": {},
   "source": [
    "## Section 3: Data Reduction\n"
   ]
  },
  {
   "cell_type": "markdown",
   "metadata": {},
   "source": [
    "### Linear Dimensionality Reduction with PCA"
   ]
  },
  {
   "cell_type": "code",
   "execution_count": null,
   "metadata": {},
   "outputs": [],
   "source": []
  },
  {
   "cell_type": "code",
   "execution_count": null,
   "metadata": {},
   "outputs": [],
   "source": [
    "# Explained variance plot\n",
    "def plot_explained_variance(pca):\n",
    "    import plotly\n",
    "    from plotly.graph_objs import Bar, Line\n",
    "    from plotly.graph_objs import Scatter, Layout\n",
    "    from plotly.graph_objs.scatter import Marker\n",
    "    from plotly.graph_objs.layout import XAxis, YAxis\n",
    "    plotly.offline.init_notebook_mode() # run at the start of every notebook\n",
    "    \n",
    "    explained_var = pca.explained_variance_ratio_\n",
    "    cum_var_exp = np.cumsum(explained_var)\n",
    "    \n",
    "    plotly.offline.iplot({\n",
    "        \"data\": [Bar(y=explained_var, name='individual explained variance'),\n",
    "                 Scatter(y=cum_var_exp, name='cumulative explained variance')\n",
    "            ],\n",
    "        \"layout\": Layout(xaxis=XAxis(title='Principal components'), yaxis=YAxis(title='Explained variance ratio'))\n",
    "    })\n",
    "        \n",
    "\n",
    "pca = PCA(n_components=4)\n",
    "X_pca = pca.fit(X)\n",
    "plot_explained_variance(pca)"
   ]
  },
  {
   "cell_type": "markdown",
   "metadata": {},
   "source": [
    "**How many dimensions necessary to adequately represent image?**"
   ]
  },
  {
   "cell_type": "markdown",
   "metadata": {},
   "source": [
    "### Non-linear Dimensionality Reduction "
   ]
  },
  {
   "cell_type": "markdown",
   "metadata": {},
   "source": [
    "Kernel PCA"
   ]
  },
  {
   "cell_type": "markdown",
   "metadata": {},
   "source": [
    "### Which method is better?\n",
    "\n",
    "**Compare the representation using non-linear dimensions to using linear dimensions. The method you choose to compare dimensionality methods should quantitatively explain which method is better at representing the images with fewer components. Be aware that mean-squared error may not be a good measurement for kPCA.  Do you prefer one method over another? Why?**"
   ]
  },
  {
   "cell_type": "markdown",
   "metadata": {},
   "source": [
    "### DAISY Image Features"
   ]
  },
  {
   "cell_type": "code",
   "execution_count": null,
   "metadata": {},
   "outputs": [],
   "source": []
  },
  {
   "cell_type": "markdown",
   "metadata": {},
   "source": [
    "**Does this feature extraction method show promise for your prediction task? Why? Use visualizations to analyze this questions. For example, visualize the differences between statistics of extracted features in each target class. Another option, use a heat map of the pairwise differences (ordered by class) among all extracted features. Another option, build a nearest neighbor classifier to see actual classification performance.**"
   ]
  },
  {
   "cell_type": "markdown",
   "metadata": {},
   "source": [
    "## Section 4: Additional Analysis"
   ]
  },
  {
   "cell_type": "markdown",
   "metadata": {},
   "source": [
    "**See top**"
   ]
  }
 ],
 "metadata": {
  "kernelspec": {
   "display_name": "Python 3",
   "language": "python",
   "name": "python3"
  },
  "language_info": {
   "codemirror_mode": {
    "name": "ipython",
    "version": 3
   },
   "file_extension": ".py",
   "mimetype": "text/x-python",
   "name": "python",
   "nbconvert_exporter": "python",
   "pygments_lexer": "ipython3",
   "version": "3.7.3"
  }
 },
 "nbformat": 4,
 "nbformat_minor": 2
}
