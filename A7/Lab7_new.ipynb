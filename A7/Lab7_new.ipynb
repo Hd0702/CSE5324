{
 "cells": [
  {
   "cell_type": "markdown",
   "metadata": {},
   "source": [
    "Lab7\n",
    "By: Hayden Donofrio, et al.\n"
   ]
  },
  {
   "cell_type": "code",
   "execution_count": 34,
   "metadata": {},
   "outputs": [
    {
     "name": "stderr",
     "output_type": "stream",
     "text": [
      "[nltk_data] Downloading package punkt to /Users/munch/nltk_data...\n",
      "[nltk_data]   Package punkt is already up-to-date!\n"
     ]
    },
    {
     "name": "stdout",
     "output_type": "stream",
     "text": [
      "Found 291283 unique tokens. Distilled to 291283 top words.\n"
     ]
    }
   ],
   "source": [
    "#lets prepare the data. Reading from the train.txt file\n",
    "#make sure to concatenate the test.txt and train.txt files together so we can do our own split\n",
    "import nltk\n",
    "from nltk.corpus import stopwords \n",
    "nltk.download('punkt')\n",
    "import numpy as np\n",
    "import keras\n",
    "from keras.preprocessing.text import Tokenizer\n",
    "from keras.preprocessing.sequence import pad_sequences\n",
    "X = []\n",
    "y = []\n",
    "data = []\n",
    "stop_words = set(stopwords.words('english')) \n",
    "with open(\"test.ft.txt\", \"r\") as f:\n",
    "    for line in f:\n",
    "        if line.split()[0] == \"__label__2\": #positive label\n",
    "            y.append(np.array([1,0]))\n",
    "        else:\n",
    "            y.append(np.array([0,1]))\n",
    "        data.append(line[1:])\n",
    "\n",
    "NUM_TOP_WORDS = None\n",
    "MAX_ART_LEN = 1000 \n",
    "tokenizer = Tokenizer(num_words=NUM_TOP_WORDS)\n",
    "tokenizer.fit_on_texts(data)\n",
    "sequences = tokenizer.texts_to_sequences(data)\n",
    "\n",
    "word_index = tokenizer.word_index\n",
    "word_index = {w:i for w,i in word_index.items() if not w in stop_words} #added this line of code\n",
    "NUM_TOP_WORDS = len(word_index) if NUM_TOP_WORDS==None else NUM_TOP_WORDS\n",
    "top_words = min((len(word_index),NUM_TOP_WORDS))\n",
    "print('Found %s unique tokens. Distilled to %d top words.' % (len(word_index),top_words))\n",
    "\n",
    "X = pad_sequences(sequences, maxlen=MAX_ART_LEN)"
   ]
  },
  {
   "cell_type": "code",
   "execution_count": 4,
   "metadata": {},
   "outputs": [],
   "source": [
    "#X[0:100]"
   ]
  },
  {
   "cell_type": "code",
   "execution_count": 35,
   "metadata": {},
   "outputs": [],
   "source": [
    "#lets see how evenly spread our ys are to help select a metric\n",
    "# since they are one hot encoded we can just some along each column\n",
    "y = np.array(y)"
   ]
  },
  {
   "cell_type": "code",
   "execution_count": 36,
   "metadata": {},
   "outputs": [
    {
     "name": "stdout",
     "output_type": "stream",
     "text": [
      "positive class #:  200000  Negative class #:  200000\n"
     ]
    }
   ],
   "source": [
    "print(\"positive class #: \", sum(y[:,0]), \" Negative class #: \", sum(y[:,1]))"
   ]
  },
  {
   "cell_type": "markdown",
   "metadata": {},
   "source": [
    "We can see that the classes are evenly split! We are not specifically targeting a positive class over a negative class therefore accuracy would not be a bad metric for this dataset!"
   ]
  },
  {
   "cell_type": "markdown",
   "metadata": {},
   "source": [
    "We have a very large amount of data for each class. An 80/20 split should be sufficent since we have over 100,000 items for each class"
   ]
  },
  {
   "cell_type": "code",
   "execution_count": 37,
   "metadata": {},
   "outputs": [],
   "source": [
    "from sklearn.model_selection import train_test_split\n",
    "X_train, X_test, y_train_ohe, y_test_ohe = train_test_split(X, y, test_size=0.2)"
   ]
  },
  {
   "cell_type": "code",
   "execution_count": 38,
   "metadata": {},
   "outputs": [
    {
     "name": "stdout",
     "output_type": "stream",
     "text": [
      "\u001b[31mglove.6B.300d.txt\u001b[m\u001b[m\n",
      "['0.04656', '0.21318', '-0.0074364', '-0.45854', '-0.035639', '0.23643', '-0.28836', '0.21521', '-0.13486', '-1.6413', '-0.26091', '0.032434', '0.056621', '-0.043296', '-0.021672', '0.22476', '-0.075129', '-0.067018', '-0.14247', '0.038825', '-0.18951', '0.29977', '0.39305', '0.17887', '-0.17343', '-0.21178', '0.23617', '-0.063681', '-0.42318', '-0.11661', '0.093754', '0.17296', '-0.33073', '0.49112', '-0.68995', '-0.092462', '0.24742', '-0.17991', '0.097908', '0.083118', '0.15299', '-0.27276', '-0.038934', '0.54453', '0.53737', '0.29105', '-0.0073514', '0.04788', '-0.4076', '-0.026759', '0.17919', '0.010977', '-0.10963', '-0.26395', '0.07399', '0.26236', '-0.1508', '0.34623', '0.25758', '0.11971', '-0.037135', '-0.071593', '0.43898', '-0.040764', '0.016425', '-0.4464', '0.17197', '0.046246', '0.058639', '0.041499', '0.53948', '0.52495', '0.11361', '-0.048315', '-0.36385', '0.18704', '0.092761', '-0.11129', '-0.42085', '0.13992', '-0.39338', '-0.067945', '0.12188', '0.16707', '0.075169', '-0.015529', '-0.19499', '0.19638', '0.053194', '0.2517', '-0.34845', '-0.10638', '-0.34692', '-0.19024', '-0.2004', '0.12154', '-0.29208', '0.023353', '-0.11618', '-0.35768', '0.062304', '0.35884', '0.02906', '0.0073005', '0.0049482', '-0.15048', '-0.12313', '0.19337', '0.12173', '0.44503', '0.25147', '0.10781', '-0.17716', '0.038691', '0.08153', '0.14667', '0.063666', '0.061332', '-0.075569', '-0.37724', '0.01585', '-0.30342', '0.28374', '-0.042013', '-0.040715', '-0.15269', '0.07498', '0.15577', '0.10433', '0.31393', '0.19309', '0.19429', '0.15185', '-0.10192', '-0.018785', '0.20791', '0.13366', '0.19038', '-0.25558', '0.304', '-0.01896', '0.20147', '-0.4211', '-0.0075156', '-0.27977', '-0.19314', '0.046204', '0.19971', '-0.30207', '0.25735', '0.68107', '-0.19409', '0.23984', '0.22493', '0.65224', '-0.13561', '-0.17383', '-0.048209', '-0.1186', '0.0021588', '-0.019525', '0.11948', '0.19346', '-0.4082', '-0.082966', '0.16626', '-0.10601', '0.35861', '0.16922', '0.07259', '-0.24803', '-0.10024', '-0.52491', '-0.17745', '-0.36647', '0.2618', '-0.012077', '0.08319', '-0.21528', '0.41045', '0.29136', '0.30869', '0.078864', '0.32207', '-0.041023', '-0.1097', '-0.092041', '-0.12339', '-0.16416', '0.35382', '-0.082774', '0.33171', '-0.24738', '-0.048928', '0.15746', '0.18988', '-0.026642', '0.063315', '-0.010673', '0.34089', '1.4106', '0.13417', '0.28191', '-0.2594', '0.055267', '-0.052425', '-0.25789', '0.019127', '-0.022084', '0.32113', '0.068818', '0.51207', '0.16478', '-0.20194', '0.29232', '0.098575', '0.013145', '-0.10652', '0.1351', '-0.045332', '0.20697', '-0.48425', '-0.44706', '0.0033305', '0.0029264', '-0.10975', '-0.23325', '0.22442', '-0.10503', '0.12339', '0.10978', '0.048994', '-0.25157', '0.40319', '0.35318', '0.18651', '-0.023622', '-0.12734', '0.11475', '0.27359', '-0.21866', '0.015794', '0.81754', '-0.023792', '-0.85469', '-0.16203', '0.18076', '0.028014', '-0.1434', '0.0013139', '-0.091735', '-0.089704', '0.11105', '-0.16703', '0.068377', '-0.087388', '-0.039789', '0.014184', '0.21187', '0.28579', '-0.28797', '-0.058996', '-0.032436', '-0.0047009', '-0.17052', '-0.034741', '-0.11489', '0.075093', '0.099526', '0.048183', '-0.073775', '-0.41817', '0.0041268', '0.44414', '-0.16062', '0.14294', '-2.2628', '-0.027347', '0.81311', '0.77417', '-0.25639', '-0.11576', '-0.11982', '-0.21363', '0.028429', '0.27261', '0.031026', '0.096782', '0.0067769', '0.14082', '-0.013064', '-0.29686', '-0.079913', '0.195', '0.031549', '0.28506', '-0.087461', '0.0090611', '-0.20989', '0.053913']\n",
      "Found 0 word vectors.\n",
      "(291284, 300)\n"
     ]
    }
   ],
   "source": [
    "#now lets load the pre-trained keras embedding\n",
    "!ls \"glove/\" \n",
    "EMBED_SIZE = 300\n",
    "# the embed size should match the file you load glove from\n",
    "embeddings_index = {}\n",
    "f = open('glove/glove.6B.300d.txt')\n",
    "# save key/array pairs of the embeddings\n",
    "#  the key of the dictionary is the word, the array is the embedding\n",
    "for line in f:\n",
    "    values = line.split()\n",
    "    word = values[0]\n",
    "    print(values[1:])\n",
    "    break\n",
    "    coefs = np.asarray(values[1:], dtype='float32')\n",
    "    embeddings_index[word] = coefs\n",
    "f.close()\n",
    "\n",
    "print('Found %s word vectors.' % len(embeddings_index))\n",
    "embedding_matrix = np.zeros((len(word_index) + 1, EMBED_SIZE))\n",
    "for word, i in word_index.items():\n",
    "    embedding_vector = embeddings_index.get(word)\n",
    "    if embedding_vector is not None:\n",
    "        # words not found in embedding index will be all-zeros.\n",
    "        embedding_matrix[i] = embedding_vector\n",
    "\n",
    "print(embedding_matrix.shape)"
   ]
  },
  {
   "cell_type": "code",
   "execution_count": 40,
   "metadata": {},
   "outputs": [],
   "source": [
    "from keras.layers import Embedding\n",
    "\n",
    "embedding_layer = Embedding(len(word_index) + 1,\n",
    "                            EMBED_SIZE,\n",
    "                            weights=[embedding_matrix],\n",
    "                            input_length=MAX_ART_LEN,\n",
    "                            trainable=False)"
   ]
  },
  {
   "cell_type": "code",
   "execution_count": 41,
   "metadata": {},
   "outputs": [
    {
     "name": "stdout",
     "output_type": "stream",
     "text": [
      "Model: \"sequential_3\"\n",
      "_________________________________________________________________\n",
      "Layer (type)                 Output Shape              Param #   \n",
      "=================================================================\n",
      "embedding_2 (Embedding)      (None, 1000, 300)         87385200  \n",
      "_________________________________________________________________\n",
      "lstm_2 (LSTM)                (None, 300)               721200    \n",
      "_________________________________________________________________\n",
      "dense_3 (Dense)              (None, 2)                 602       \n",
      "=================================================================\n",
      "Total params: 88,107,002\n",
      "Trainable params: 721,802\n",
      "Non-trainable params: 87,385,200\n",
      "_________________________________________________________________\n",
      "None\n"
     ]
    }
   ],
   "source": [
    "from keras.models import Sequential\n",
    "from keras.layers import Dense\n",
    "from keras.layers import LSTM\n",
    "\n",
    "rnn = Sequential()\n",
    "rnn.add(embedding_layer)\n",
    "rnn.add(LSTM(300,dropout=0.2, recurrent_dropout=0.2))\n",
    "rnn.add(Dense(2, activation='sigmoid'))\n",
    "rnn.compile(loss='categorical_crossentropy', \n",
    "              optimizer='rmsprop', \n",
    "              metrics=['accuracy'])\n",
    "print(rnn.summary())\n"
   ]
  },
  {
   "cell_type": "code",
   "execution_count": 42,
   "metadata": {},
   "outputs": [
    {
     "name": "stdout",
     "output_type": "stream",
     "text": [
      "Train on 50 samples, validate on 5000 samples\n",
      "Epoch 1/3\n",
      "50/50 [==============================] - 247s 5s/step - loss: 0.6931 - accuracy: 0.4200 - val_loss: 0.6931 - val_accuracy: 0.5076\n",
      "Epoch 2/3\n",
      "50/50 [==============================] - 243s 5s/step - loss: 0.6896 - accuracy: 0.5800 - val_loss: 0.6992 - val_accuracy: 0.5076\n",
      "Epoch 3/3\n",
      "50/50 [==============================] - 243s 5s/step - loss: 0.6834 - accuracy: 0.5800 - val_loss: 0.7003 - val_accuracy: 0.5076\n"
     ]
    }
   ],
   "source": [
    "#change this [0:50] to a larger size, I made it smaller so we can focus on graphing history and then moving it up later\n",
    "history = rnn.fit(X_train[0:50], y_train_ohe[0:50], validation_data=(X_test[0:5000], y_test_ohe[0:5000]), epochs=3, batch_size=64)"
   ]
  },
  {
   "cell_type": "code",
   "execution_count": 43,
   "metadata": {},
   "outputs": [
    {
     "name": "stdout",
     "output_type": "stream",
     "text": [
      "Model: \"sequential_4\"\n",
      "_________________________________________________________________\n",
      "Layer (type)                 Output Shape              Param #   \n",
      "=================================================================\n",
      "embedding_2 (Embedding)      (None, 1000, 300)         87385200  \n",
      "_________________________________________________________________\n",
      "gru_2 (GRU)                  (None, 300)               540900    \n",
      "_________________________________________________________________\n",
      "dense_4 (Dense)              (None, 2)                 602       \n",
      "=================================================================\n",
      "Total params: 87,926,702\n",
      "Trainable params: 541,502\n",
      "Non-trainable params: 87,385,200\n",
      "_________________________________________________________________\n",
      "None\n"
     ]
    }
   ],
   "source": [
    "#this is the gru\n",
    "from keras.models import Sequential\n",
    "from keras.layers import Dense\n",
    "from keras.layers import LSTM, GRU\n",
    "\n",
    "gru = Sequential()\n",
    "gru.add(embedding_layer)\n",
    "gru.add(GRU(300,activation='tanh',recurrent_activation='sigmoid',dropout=0.2, recurrent_dropout=0.2))\n",
    "gru.add(Dense(2, activation='sigmoid'))\n",
    "gru.compile(loss='categorical_crossentropy', \n",
    "              optimizer='rmsprop', \n",
    "              metrics=['accuracy'])\n",
    "print(gru.summary())\n"
   ]
  },
  {
   "cell_type": "code",
   "execution_count": 44,
   "metadata": {},
   "outputs": [
    {
     "name": "stdout",
     "output_type": "stream",
     "text": [
      "Train on 50 samples, validate on 5000 samples\n",
      "Epoch 1/3\n",
      "50/50 [==============================] - 244s 5s/step - loss: 0.6802 - accuracy: 0.5800 - val_loss: 1.2517 - val_accuracy: 0.5076\n",
      "Epoch 2/3\n",
      "50/50 [==============================] - 243s 5s/step - loss: 1.0811 - accuracy: 0.5800 - val_loss: 0.6930 - val_accuracy: 0.5076\n",
      "Epoch 3/3\n",
      "50/50 [==============================] - 242s 5s/step - loss: 0.6907 - accuracy: 0.5800 - val_loss: 0.6931 - val_accuracy: 0.5076\n"
     ]
    }
   ],
   "source": [
    "gru_history = rnn.fit(X_train[0:50], y_train_ohe[0:50], validation_data=(X_test[0:5000], y_test_ohe[0:5000]), epochs=3, batch_size=64)"
   ]
  },
  {
   "cell_type": "code",
   "execution_count": 46,
   "metadata": {},
   "outputs": [
    {
     "data": {
      "image/png": "[encoded data removed]",
      "text/plain": [
       "<Figure size 720x720 with 1 Axes>"
      ]
     },
     "metadata": {
      "needs_background": "light"
     },
     "output_type": "display_data"
    }
   ],
   "source": [
    "from sklearn.manifold import TSNE\n",
    "import matplotlib.pyplot as plt\n",
    "\n",
    "def plot_embeddings(embeddings,names):\n",
    "    model = TSNE(n_components=3, method='exact',random_state=0)\n",
    "    vectors = model.fit_transform(embeddings)\n",
    "    x,y = vectors[:,0],vectors[:,1]\n",
    "    fig,ax = plt.subplots(figsize=(10,10))\n",
    "    ax.scatter(x,y)\n",
    "    ax.tick_params(direction='in')\n",
    "    for i, n in enumerate(names):\n",
    "        ax.annotate(n,xy=(x[i], y[i]),xytext=(x[i]+2, y[i]+2))\n",
    "        \n",
    "words_to_plot = 50\n",
    "names_sub = list(word_index.keys())[1:words_to_plot]\n",
    "embedding_sub = embedding_matrix[1:words_to_plot+1,:]\n",
    "\n",
    "plot_embeddings(embedding_sub, names_sub)"
   ]
  },
  {
   "cell_type": "code",
   "execution_count": null,
   "metadata": {},
   "outputs": [],
   "source": []
  }
 ],
 "metadata": {
  "kernelspec": {
   "display_name": "Python 3",
   "language": "python",
   "name": "python3"
  },
  "language_info": {
   "codemirror_mode": {
    "name": "ipython",
    "version": 3
   },
   "file_extension": ".py",
   "mimetype": "text/x-python",
   "name": "python",
   "nbconvert_exporter": "python",
   "pygments_lexer": "ipython3",
   "version": "3.7.3"
  }
 },
 "nbformat": 4,
 "nbformat_minor": 2
}
