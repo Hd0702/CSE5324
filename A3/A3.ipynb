{
 "cells": [
  {
   "cell_type": "markdown",
   "metadata": {},
   "source": [
    "So this is the lab...\n",
    "Logistic regression and stuff\n",
    "so yeah... we need paramters for regularization\n",
    "none, L1, L2, this can jsut be a flag with hyperparamters and overloaded functions for the regulairzation...\n",
    "well maybe not overloading but a method that we call that calls other methods called L1 and L2\n",
    "we can compare different regularizations within the same method, that way its legit. \n",
    "for the methods... Were suggetsted to the Stochiastic graident descent. mini-batch gradient descent for our steepest descent and the hessian for the quasi newton thingy. Frick do we gotta write our own hessian? Thatll suck big time\n",
    "\n",
    "Step1.\n",
    "Read data and encode locations as one hot encoded\n",
    "Step2.\n",
    "Split into 80% train and 20 %test after merging.\n",
    "Step3. Write regularization\n",
    "Do these tonight"
   ]
  },
  {
   "cell_type": "code",
   "execution_count": 170,
   "metadata": {},
   "outputs": [
    {
     "name": "stdout",
     "output_type": "stream",
     "text": [
      "clothing-fit-dataset-for-size-recommendation\n",
      "NaNs per column, if more than 20% we will drop otherwise\n",
      "79908 waist\n",
      "0 size\n",
      "68 quality\n",
      "6255 cup size\n",
      "26726 hips\n",
      "6018 bra size\n",
      "70936 bust\n",
      "1107 height\n",
      "35 length\n",
      "54875 shoe size\n",
      "   size  quality  cup size       hips   bra size     height  length  shoe size\n",
      "0     7      5.0       4.0  38.000000  34.000000  77.000000     3.0   8.145818\n",
      "1    13      3.0       2.0  30.000000  36.000000  29.000000     3.0   8.145818\n",
      "2     7      2.0       2.0  40.358501  32.000000  89.000000     4.0   9.000000\n",
      "3    21      5.0       5.0  40.358501  35.972125  67.016136     3.0   8.145818\n",
      "4    18      5.0       2.0  40.358501  36.000000  29.000000     4.0   8.145818\n"
     ]
    },
    {
     "data": {
      "text/plain": [
       "array([[ 7,  5,  4, ..., 77,  3,  8],\n",
       "       [13,  3,  2, ..., 29,  3,  8],\n",
       "       [ 7,  2,  2, ..., 89,  4,  9],\n",
       "       ...,\n",
       "       [12,  5,  7, ..., 53,  3,  8],\n",
       "       [12,  4,  3, ..., 41,  3,  8],\n",
       "       [ 4,  4,  4, ...,  6,  3,  8]])"
      ]
     },
     "execution_count": 170,
     "metadata": {},
     "output_type": "execute_result"
    }
   ],
   "source": [
    "#this is the block that simply reads the data\n",
    "import os\n",
    "import re\n",
    "import math\n",
    "import pandas as pd\n",
    "def translate_height(height):\n",
    "    height = str(height)\n",
    "    if height == \"nan\":\n",
    "        return None\n",
    "    l = re.findall(r'[0-9]+',height)\n",
    "    if len(l) == 1:\n",
    "        return int(l[0])\n",
    "    else:\n",
    "        return int(l[0]) + int(l[1])*12\n",
    "directory = os.path.relpath(\"clothing-fit-dataset-for-size-recommendation/\")\n",
    "print(directory)\n",
    "df = []\n",
    "y = []\n",
    "df = pd.read_json('clothing-fit-dataset-for-size-recommendation/modcloth_final_data.json', lines=True)\n",
    "di = {\"very short\": 1, \"slightly short\": 2, \"just right\": 3, \"slightly long\": 4, \"very long\": 5}\n",
    "df = df.replace({\"length\": di})\n",
    "di = {\"small\": 0, \"fit\": 1, \"large\": 2}\n",
    "df = df.replace({\"fit\": di})\n",
    "df[\"height\"] = df[\"height\"].map(lambda x: translate_height(x))\n",
    "\n",
    "di = {\"aa\": 0, \"a\": 1, \"b\": 2, \"c\": 3, \"d\": 4, \"dd/e\": 5, \"ddd/f\": 6, \"dddd/g\": 7, \"h\": 8, \"i\": 9, \"j\": 10, \"k\": 11}\n",
    "df = df.replace({\"cup size\": di})\n",
    "#maybe add shoe width back?\n",
    "y = df['fit']\n",
    "df = df.drop(columns=[\"item_id\", \"category\", \"user_name\", \"user_id\", \"shoe width\", \"review_summary\", \"review_text\", \"fit\"])\n",
    "print(\"NaNs per column, if more than 20% we will drop otherwise\")\n",
    "for column in df:\n",
    "    print(df[column].isna().sum(), column)\n",
    "    df[column] = pd.to_numeric(df[column], errors=\"coerce\")\n",
    "df = df.drop(columns=[\"waist\", \"bust\"])\n",
    "df = df.fillna(df.mean())\n",
    "print(df.head())\n",
    "#big issue here is predicting columns with shoes? wtf there are so many NaNs. Not sure what to do about shoe products?\n",
    "x = df.values.astype(int)\n",
    "x\n"
   ]
  },
  {
   "cell_type": "code",
   "execution_count": null,
   "metadata": {},
   "outputs": [],
   "source": [
    "#this is for the renttherunway stuff\n"
   ]
  },
  {
   "cell_type": "code",
   "execution_count": 167,
   "metadata": {},
   "outputs": [],
   "source": [
    "#now split into training and testing data\n",
    "import numpy as np\n",
    "from sklearn.model_selection import train_test_split\n",
    "X_train, X_test, y_train, y_test = train_test_split(x, y, test_size = .80)\n"
   ]
  },
  {
   "cell_type": "code",
   "execution_count": 171,
   "metadata": {},
   "outputs": [
    {
     "name": "stderr",
     "output_type": "stream",
     "text": [
      "/Users/haydendonofrio/anaconda3/lib/python3.6/site-packages/sklearn/linear_model/logistic.py:432: FutureWarning: Default solver will be changed to 'lbfgs' in 0.22. Specify a solver to silence this warning.\n",
      "  FutureWarning)\n",
      "/Users/haydendonofrio/anaconda3/lib/python3.6/site-packages/sklearn/linear_model/logistic.py:469: FutureWarning: Default multi_class will be changed to 'auto' in 0.22. Specify the multi_class option to silence this warning.\n",
      "  \"this warning.\", FutureWarning)\n"
     ]
    },
    {
     "name": "stdout",
     "output_type": "stream",
     "text": [
      "Accuracy of:  0.6896213310786327\n"
     ]
    }
   ],
   "source": [
    "#test logistic regresion to see if my splits are working\n",
    "from sklearn.linear_model import LogisticRegression\n",
    "from sklearn.metrics import accuracy_score\n",
    "clf = LogisticRegression(fit_intercept=False)\n",
    "clf.fit(X_train, y_train)\n",
    "\n",
    "yhat = clf.predict(X_test)\n",
    "print('Accuracy of: ',accuracy_score(y_test,yhat))"
   ]
  },
  {
   "cell_type": "markdown",
   "metadata": {},
   "source": [
    "## Regurlzarization\n"
   ]
  },
  {
   "cell_type": "code",
   "execution_count": 175,
   "metadata": {},
   "outputs": [],
   "source": [
    "class BinaryLogisticRegressionBase:\n",
    "    # private:\n",
    "    def __init__(self, eta, iterations=20):\n",
    "        self.eta = eta\n",
    "        self.iters = iterations\n",
    "        # internally we will store the weights as self.w_ to keep with sklearn conventions\n",
    "    \n",
    "    def __str__(self):\n",
    "        return 'Base Binary Logistic Regression Object, Not Trainable'\n",
    "    \n",
    "    # convenience, private and static:\n",
    "    @staticmethod\n",
    "    def _sigmoid(theta):\n",
    "        return 1/(1+np.exp(-theta)) \n",
    "    \n",
    "    @staticmethod\n",
    "    def _add_bias(X):\n",
    "        return np.hstack((np.ones((X.shape[0],1)),X)) # add bias term\n",
    "    \n",
    "    # public:\n",
    "    def predict_proba(self,X,add_bias=True):\n",
    "        # this typically gives us the probability of a specific class\n",
    "        # we need a bias term \n",
    "        # add bias term if requested\n",
    "        Xb = self._add_bias(X) if add_bias else X\n",
    "        # this will take the x with the bias term and multiplies it by w. This will give us a scalr quantity\n",
    "        return self._sigmoid(Xb @ self.w_) # return the probability y=1\n",
    "    \n",
    "    def predict(self,X):\n",
    "        # if we actually want to do a prediction we are seeing if it is greater than point 5. vector of ones were it is greater than .5 and 0 when it is below .5\n",
    "        # When one is greater than the other it would be greater than .5\n",
    "        return (self.predict_proba(X)>0.5) #return the actual prediction"
   ]
  },
  {
   "cell_type": "code",
   "execution_count": 176,
   "metadata": {},
   "outputs": [],
   "source": [
    "class BinaryLogisticRegression(BinaryLogisticRegressionBase):\n",
    "    #private:\n",
    "    def __str__(self):\n",
    "        if(hasattr(self,'w_')):\n",
    "            return 'Binary Logistic Regression Object with coefficients:\\n'+ str(self.w_) # is we have trained the object\n",
    "        else:\n",
    "            return 'Untrained Binary Logistic Regression Object'\n",
    "        \n",
    "    def _get_gradient(self,X,y):\n",
    "        # programming \\sum_i (yi-g(xi))xi\n",
    "        #for each vector x we want to out it throught he sigmoid suntract it from y and add it to the gradient function\n",
    "        gradient = np.zeros(self.w_.shape) # set gradient to zero\n",
    "        for (xi,yi) in zip(X,y):\n",
    "            # the actual update inside of sum\n",
    "            gradi = (yi - self.predict_proba(xi,add_bias=False))*xi \n",
    "            # reshape to be column vector and add to gradient\n",
    "            gradient += gradi.reshape(self.w_.shape) \n",
    "        #return gradient divided by the total number of points\n",
    "        return gradient/float(len(y))\n",
    "       \n",
    "    # public:\n",
    "    def fit(self, X, y):\n",
    "        #this is going to get features and labels. We are going to say x wtih a bias is ther (col of 1s)\n",
    "        #the shape is the # of samples (rows ) by # of features (cols)\n",
    "        #w always starts at 0 usually. \n",
    "        Xb = self._add_bias(X) # add bias term\n",
    "        num_samples, num_features = Xb.shape\n",
    "        \n",
    "        self.w_ = np.zeros((num_features,1)) # init weight vector to zeros\n",
    "        \n",
    "        # for as many as the max iterations\n",
    "        # whats the gradient?? and internall we are updating self.w_ in this\n",
    "        \n",
    "        for _ in range(self.iters):\n",
    "            gradient = self._get_gradient(Xb,y)\n",
    "            self.w_ += gradient*self.eta # multiply by learning rate \n",
    "\n",
    "           "
   ]
  },
  {
   "cell_type": "code",
   "execution_count": 180,
   "metadata": {},
   "outputs": [],
   "source": [
    "from scipy.special import expit\n",
    "class VectorBinaryLogisticRegression(BinaryLogisticRegression):\n",
    "    # inherit from our previous class to get same functionality\n",
    "    @staticmethod\n",
    "    def _sigmoid(theta):\n",
    "        # increase stability, redefine sigmoid operation\n",
    "        return expit(theta) #1/(1+np.exp(-theta))\n",
    "    \n",
    "    # but overwrite the gradient calculation\n",
    "    def _get_gradient(self,X,y):\n",
    "        ydiff = y-self.predict_proba(X,add_bias=False).ravel() # get y difference\n",
    "        gradient = np.mean(X * ydiff[:,np.newaxis], axis=0) # make ydiff a column vector and multiply through\n",
    "        \n",
    "        return gradient.reshape(self.w_.shape)"
   ]
  },
  {
   "cell_type": "code",
   "execution_count": 182,
   "metadata": {},
   "outputs": [
    {
     "name": "stdout",
     "output_type": "stream",
     "text": [
      "MultiClass Logistic Regression Object with coefficients:\n",
      "[[-0.06019027  2.9906961  -3.68819791  0.0543307   0.27317022 -0.26456019\n",
      "   0.18032771 -1.78460595 -0.41538208]\n",
      " [ 0.11241579 -7.55130246  4.61789136 -0.10600179  1.14708205  1.94997994\n",
      "   1.87437464 -0.77046449  0.89511209]\n",
      " [-0.03928507  2.35381568 -0.91363433 -0.14659152 -1.9685978  -2.02787172\n",
      "  -2.93279013  2.56912713 -0.4282842 ]]\n"
     ]
    }
   ],
   "source": [
    "class LogisticRegression:\n",
    "    def __init__(self, eta, iterations=20):\n",
    "        self.eta = eta\n",
    "        self.iters = iterations\n",
    "        # internally we will store the weights as self.w_ to keep with sklearn conventions\n",
    "    \n",
    "    def __str__(self):\n",
    "        if(hasattr(self,'w_')):\n",
    "            return 'MultiClass Logistic Regression Object with coefficients:\\n'+ str(self.w_) # is we have trained the object\n",
    "        else:\n",
    "            return 'Untrained MultiClass Logistic Regression Object'\n",
    "        \n",
    "    def fit(self,X,y):\n",
    "        num_samples, num_features = X.shape\n",
    "        self.unique_ = np.unique(y) # get each unique class value\n",
    "        num_unique_classes = len(self.unique_)\n",
    "        self.classifiers_ = [] # will fill this array with binary classifiers\n",
    "        \n",
    "        for i,yval in enumerate(self.unique_): # for each unique value\n",
    "            y_binary = (y==yval) # create a binary problem whenever class is 0 (big class), y binary will be 1\n",
    "            # train the binary classifier for this class\n",
    "            blr = VectorBinaryLogisticRegression(self.eta,self.iters)\n",
    "            blr.fit(X,y_binary)\n",
    "            # add the trained classifier to the list\n",
    "            self.classifiers_.append(blr)\n",
    "            \n",
    "        # save all the weights into one matrix, separate column for each class\n",
    "        self.w_ = np.hstack([x.w_ for x in self.classifiers_]).T\n",
    "        \n",
    "    def predict_proba(self,X):\n",
    "        probs = []\n",
    "        for blr in self.classifiers_:\n",
    "            probs.append(blr.predict_proba(X)) # get probability for each classifier\n",
    "        \n",
    "        return np.hstack(probs) # make into single matrix\n",
    "    \n",
    "    def predict(self,X):\n",
    "        return self.unique_[np.argmax(self.predict_proba(X),axis=1)] # take argmax along row\n",
    "    \n",
    "#print(X)\n",
    "#print(y)"
   ]
  },
  {
   "cell_type": "code",
   "execution_count": 185,
   "metadata": {},
   "outputs": [
    {
     "name": "stdout",
     "output_type": "stream",
     "text": [
      "Accuracy of:  0.566961589563957\n"
     ]
    }
   ],
   "source": [
    "yhat = lr.predict(X_test)\n",
    "print('Accuracy of: ',accuracy_score(y_test,yhat))\n"
   ]
  },
  {
   "cell_type": "code",
   "execution_count": 186,
   "metadata": {},
   "outputs": [],
   "source": [
    "class RegularizedBinaryLogisticRegression(VectorBinaryLogisticRegression):\n",
    "    # extend init functions\n",
    "    def __init__(self, C=0.0, **kwds):        \n",
    "        # need to add to the original initializer \n",
    "        self.C = C\n",
    "        # but keep other keywords\n",
    "        super().__init__(**kwds) # call parent initializer\n",
    "        \n",
    "        \n",
    "    # extend previous class to change functionality\n",
    "    def _get_gradient(self,X,y):\n",
    "        # call get gradient from previous class\n",
    "        gradient = super()._get_gradient(X,y)\n",
    "        \n",
    "        # add in regularization (to all except bias term)\n",
    "        gradient[1:] += -2 * self.w_[1:] * self.C\n",
    "        return gradient\n",
    "        "
   ]
  },
  {
   "cell_type": "code",
   "execution_count": 199,
   "metadata": {},
   "outputs": [],
   "source": [
    "# now redefine the Logistic Regression Function where needed\n",
    "class RegularizedLogisticRegression(LogisticRegression):\n",
    "    def __init__(self, C=0.0, **kwds):        \n",
    "        # need to add to the original initializer \n",
    "        self.C = C\n",
    "        # but keep other keywords\n",
    "        super().__init__(**kwds) # call parent initializer\n",
    "        \n",
    "    def fit(self,X,y):\n",
    "        num_samples, num_features = X.shape\n",
    "        self.unique_ = np.unique(y) # get each unique class value\n",
    "        num_unique_classes = len(self.unique_)\n",
    "        self.classifiers_ = [] # will fill this array with binary classifiers\n",
    "        \n",
    "        for i,yval in enumerate(self.unique_): # for each unique value\n",
    "            y_binary = y==yval # create a binary problem\n",
    "            # train the binary classifier for this class\n",
    "            blr = RegularizedBinaryLogisticRegression(eta=self.eta,\n",
    "                                                      iterations=self.iters,\n",
    "                                                      C=self.C)\n",
    "            blr.fit(X,y_binary)\n",
    "            # add the trained classifier to the list\n",
    "            print(blr)\n",
    "            self.classifiers_.append(blr)\n",
    "            \n",
    "        # save all the weights into one matrix, separate column for each class\n",
    "        self.w_ = np.hstack([x.w_ for x in self.classifiers_]).T"
   ]
  },
  {
   "cell_type": "code",
   "execution_count": 200,
   "metadata": {},
   "outputs": [
    {
     "name": "stdout",
     "output_type": "stream",
     "text": [
      "Binary Logistic Regression Object with coefficients:\n",
      "[[-7.02049084e+00]\n",
      " [ 7.57946054e-02]\n",
      " [-1.00478138e-01]\n",
      " [ 8.58996433e-04]\n",
      " [-4.19529481e-02]\n",
      " [-4.86540222e-02]\n",
      " [ 6.22245794e-03]\n",
      " [-4.93867571e-02]\n",
      " [-1.84686174e-02]]\n",
      "Binary Logistic Regression Object with coefficients:\n",
      "[[ 4.35495229]\n",
      " [-0.30036486]\n",
      " [ 0.19398869]\n",
      " [ 0.03115082]\n",
      " [ 0.64113769]\n",
      " [ 0.60574412]\n",
      " [ 0.7886317 ]\n",
      " [ 0.03790045]\n",
      " [ 0.15408667]]\n",
      "Binary Logistic Regression Object with coefficients:\n",
      "[[-6.71523728]\n",
      " [-0.48867516]\n",
      " [-0.2543448 ]\n",
      " [-0.19469627]\n",
      " [-2.33350559]\n",
      " [-2.09205353]\n",
      " [-4.08955928]\n",
      " [-0.11528848]\n",
      " [-0.4715282 ]]\n",
      "MultiClass Logistic Regression Object with coefficients:\n",
      "[[-7.02049084e+00  7.57946054e-02 -1.00478138e-01  8.58996433e-04\n",
      "  -4.19529481e-02 -4.86540222e-02  6.22245794e-03 -4.93867571e-02\n",
      "  -1.84686174e-02]\n",
      " [ 4.35495229e+00 -3.00364857e-01  1.93988693e-01  3.11508188e-02\n",
      "   6.41137693e-01  6.05744116e-01  7.88631699e-01  3.79004510e-02\n",
      "   1.54086672e-01]\n",
      " [-6.71523728e+00 -4.88675160e-01 -2.54344801e-01 -1.94696271e-01\n",
      "  -2.33350559e+00 -2.09205353e+00 -4.08955928e+00 -1.15288478e-01\n",
      "  -4.71528202e-01]]\n"
     ]
    }
   ],
   "source": [
    "lr = RegularizedLogisticRegression(eta=0.1,\n",
    "                                           iterations=2500,\n",
    "                                           C=.4) # get object(0.1,500)\n",
    "lr.fit(X_train,y_train)\n",
    "print(lr)\n"
   ]
  },
  {
   "cell_type": "code",
   "execution_count": 190,
   "metadata": {},
   "outputs": [
    {
     "name": "stdout",
     "output_type": "stream",
     "text": [
      "Accuracy of:  0.685937311269477\n"
     ]
    }
   ],
   "source": [
    "yhat = lr.predict(X_test)\n",
    "print('Accuracy of: ',accuracy_score(y_test,yhat))"
   ]
  },
  {
   "cell_type": "code",
   "execution_count": 210,
   "metadata": {},
   "outputs": [],
   "source": [
    "#minibatch s essentially just running regression a smaller batch. This will be much faster with hopefully similar accuracy.\n",
    "import random\n",
    "class StochasticGradientDescent(RegularizedLogisticRegression):\n",
    "    def __init__(self, **kwds):\n",
    "            #make sure to pass c, eta and iterations\n",
    "        super().__init__(**kwds) # call parent initializer\n",
    "        \n",
    "    def fit(self, X, y):\n",
    "        num_samples, num_features = X.shape\n",
    "        #get a random sample \n",
    "        rnd = random.randrange(0, num_samples)\n",
    "        print(rnd)\n",
    "        #stochastic takes a single sample \n",
    "        \n",
    "\n"
   ]
  },
  {
   "cell_type": "code",
   "execution_count": 211,
   "metadata": {},
   "outputs": [
    {
     "name": "stdout",
     "output_type": "stream",
     "text": [
      "72\n",
      "Untrained MultiClass Logistic Regression Object\n"
     ]
    }
   ],
   "source": [
    "ls = StochasticGradientDescent(eta=0.1,\n",
    "                                           iterations=2500,\n",
    "                                           C=.4) # get object(0.1,500)\n",
    "ls.fit(X_train,y_train)\n",
    "print(ls)\n"
   ]
  },
  {
   "cell_type": "code",
   "execution_count": null,
   "metadata": {},
   "outputs": [],
   "source": []
  }
 ],
 "metadata": {
  "kernelspec": {
   "display_name": "Python 3",
   "language": "python",
   "name": "python3"
  },
  "language_info": {
   "codemirror_mode": {
    "name": "ipython",
    "version": 3
   },
   "file_extension": ".py",
   "mimetype": "text/x-python",
   "name": "python",
   "nbconvert_exporter": "python",
   "pygments_lexer": "ipython3",
   "version": "3.6.9"
  }
 },
 "nbformat": 4,
 "nbformat_minor": 2
}
