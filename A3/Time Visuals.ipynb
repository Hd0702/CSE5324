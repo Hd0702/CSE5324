{
 "cells": [
  {
   "cell_type": "markdown",
   "metadata": {},
   "source": [
    "So this is the lab...\n",
    "Logistic regression and stuff\n",
    "so yeah... we need paramters for regularization\n",
    "none, L1, L2, this can jsut be a flag with hyperparamters and overloaded functions for the regulairzation...\n",
    "well maybe not overloading but a method that we call that calls other methods called L1 and L2\n",
    "we can compare different regularizations within the same method, that way its legit. \n",
    "for the methods... Were suggetsted to the Stochiastic graident descent. mini-batch gradient descent for our steepest descent and the hessian for the quasi newton thingy. Frick do we gotta write our own hessian? Thatll suck big time\n",
    "\n",
    "Step1.\n",
    "Read data and encode locations as one hot encoded\n",
    "Step2.\n",
    "Split into 80% train and 20 %test after merging.\n",
    "Step3. Write regularization\n",
    "Do these tonight\n",
    "\n",
    "\n",
    "We did both of the regularzations but not together \\for reg we do ridge lasso or elastic net \n",
    "gradient[1:] = regularization + get gradient"
   ]
  },
  {
   "cell_type": "code",
   "execution_count": null,
   "metadata": {},
   "outputs": [],
   "source": []
  },
  {
   "cell_type": "markdown",
   "metadata": {},
   "source": [
    "When trying to shop for clothing items online, it can be difficult to determine the correct sizing for your shape. Most website just have your basic options of small, medium, large, etc., but how do you know which option would work best for you? Life would be so much easier if you knew the item you ordered would come in fitting exactly the way you imagined it would. From using the content in this dataset, we can write an algorithm that when given specific measurements, it will map to previous successful similar entries and return the best fit for your features. The ability to achieve this approximate \"fit\", allows the customer to feel more confident in their sizing selection process.\n",
    "\n",
    "According to https://www.shopify.com/enterprise/ecommerce-returns, seventy-two percent of all of their customer returns are due to issues with the fit, sizing, style, etc. When researching different companies on their return rates, the customer-preference based returns are constantly receiving the highest percentages.\n",
    "\n",
    "With a successful classification algorithm, this could be deployed into hundreds of online shopping stores and provide a better experience throughout. For example, people would not need to go through the hassle of repackaging and shipping their item, the money they are having to spend for this process, working with customer service on an exchange or refund, etc. On the business side, companies will be able to help more customers due to the decrease of services needed, receive higher ratings from customer satisfaction, and much more. By having this algorithm in place, the world of online shopping would increase, and it would be easier to obtain the products you need, when you do not have time in your schedule, and have no doubts about the fit of your product.\n",
    "\n",
    "[Dataset Source](https://www.kaggle.com/rmisra/clothing-fit-dataset-for-size-recommendation/data)\n"
   ]
  },
  {
   "cell_type": "code",
   "execution_count": 1,
   "metadata": {},
   "outputs": [
    {
     "name": "stdout",
     "output_type": "stream",
     "text": [
      "NaNs per column, if more than 20% we will drop otherwise\n",
      "6018 bra size\n",
      "70936 bust\n",
      "6255 cup size\n",
      "1107 height\n",
      "26726 hips\n",
      "35 length\n",
      "68 quality\n",
      "54875 shoe size\n",
      "0 size\n",
      "79908 waist\n",
      "    bra size  cup size    height  quality  size\n",
      "0  34.000000       4.0  66.00000      5.0     7\n",
      "1  36.000000       2.0  62.00000      3.0    13\n",
      "2  32.000000       2.0  67.00000      2.0     7\n",
      "3  35.972125       5.0  65.14642      5.0    21\n",
      "4  36.000000       2.0  62.00000      5.0    18\n"
     ]
    },
    {
     "data": {
      "text/plain": [
       "array([[34,  4, 66,  5,  7],\n",
       "       [36,  2, 62,  3, 13],\n",
       "       [32,  2, 67,  2,  7],\n",
       "       ...,\n",
       "       [32,  7, 64,  5, 12],\n",
       "       [35,  3, 63,  4, 12],\n",
       "       [32,  4, 72,  4,  4]])"
      ]
     },
     "execution_count": 1,
     "metadata": {},
     "output_type": "execute_result"
    }
   ],
   "source": [
    "#this is the block that simply reads the data\n",
    "import os\n",
    "import re\n",
    "import math\n",
    "import numpy as np\n",
    "import pandas as pd\n",
    "def translate_height(height):\n",
    "    height = str(height)\n",
    "    if height == \"nan\":\n",
    "        return None\n",
    "    l = re.findall(r'[0-9]+',height)\n",
    "    if len(l) == 1:\n",
    "        return int(l[0])*12\n",
    "    else:\n",
    "        return int(l[0])*12 + int(l[1])\n",
    "df = []\n",
    "y = []\n",
    "df = pd.read_json('clothing-fit-dataset-for-size-recommendation/modcloth_final_data.json', lines=True)\n",
    "di = {\"very short\": 1, \"slightly short\": 2, \"just right\": 3, \"slightly long\": 4, \"very long\": 5}\n",
    "df = df.replace({\"length\": di})\n",
    "di = {\"small\": 1, \"fit\": 2, \"large\": 3}\n",
    "df = df.replace({\"fit\": di})\n",
    "df[\"height\"] = df[\"height\"].map(lambda x: translate_height(x))\n",
    "\n",
    "di = {\"aa\": 0, \"a\": 1, \"b\": 2, \"c\": 3, \"d\": 4, \"dd/e\": 5, \"ddd/f\": 6, \"dddd/g\": 7, \"h\": 8, \"i\": 9, \"j\": 10, \"k\": 11}\n",
    "df = df.replace({\"cup size\": di})\n",
    "#maybe add shoe width back?\n",
    "y = df['fit']\n",
    "#maybe add length back?\n",
    "df = df.drop(columns=[\"item_id\", \"category\", \"user_name\", \"user_id\", \"shoe width\", \"review_summary\", \"review_text\", \"fit\"])\n",
    "print(\"NaNs per column, if more than 20% we will drop otherwise\")\n",
    "for column in df:\n",
    "    print(df[column].isna().sum(), column)\n",
    "    df[column] = pd.to_numeric(df[column], errors=\"coerce\")\n",
    "df = df.drop(columns=[\"waist\", \"bust\", \"shoe size\", \"length\", \"hips\"])\n",
    "df = df.fillna(df.mean())\n",
    "print(df.head())\n",
    "#big issue here is predicting columns with shoes? wtf there are so many NaNs. Not sure what to do about shoe products?\n",
    "x = df.values.astype(int)\n",
    "x"
   ]
  },
  {
   "cell_type": "code",
   "execution_count": 2,
   "metadata": {},
   "outputs": [
    {
     "data": {
      "text/html": [
       "<div>\n",
       "<style scoped>\n",
       "    .dataframe tbody tr th:only-of-type {\n",
       "        vertical-align: middle;\n",
       "    }\n",
       "\n",
       "    .dataframe tbody tr th {\n",
       "        vertical-align: top;\n",
       "    }\n",
       "\n",
       "    .dataframe thead th {\n",
       "        text-align: right;\n",
       "    }\n",
       "</style>\n",
       "<table border=\"1\" class=\"dataframe\">\n",
       "  <thead>\n",
       "    <tr style=\"text-align: right;\">\n",
       "      <th></th>\n",
       "      <th>age</th>\n",
       "      <th>body type</th>\n",
       "      <th>bust size</th>\n",
       "      <th>category</th>\n",
       "      <th>fit</th>\n",
       "      <th>height</th>\n",
       "      <th>item_id</th>\n",
       "      <th>rating</th>\n",
       "      <th>rented for</th>\n",
       "      <th>review_date</th>\n",
       "      <th>review_summary</th>\n",
       "      <th>review_text</th>\n",
       "      <th>size</th>\n",
       "      <th>user_id</th>\n",
       "      <th>weight</th>\n",
       "    </tr>\n",
       "  </thead>\n",
       "  <tbody>\n",
       "    <tr>\n",
       "      <th>0</th>\n",
       "      <td>28.0</td>\n",
       "      <td>hourglass</td>\n",
       "      <td>34d</td>\n",
       "      <td>romper</td>\n",
       "      <td>fit</td>\n",
       "      <td>5' 8\"</td>\n",
       "      <td>2260466</td>\n",
       "      <td>10.0</td>\n",
       "      <td>vacation</td>\n",
       "      <td>April 20, 2016</td>\n",
       "      <td>So many compliments!</td>\n",
       "      <td>An adorable romper! Belt and zipper were a lit...</td>\n",
       "      <td>14</td>\n",
       "      <td>420272</td>\n",
       "      <td>137lbs</td>\n",
       "    </tr>\n",
       "    <tr>\n",
       "      <th>1</th>\n",
       "      <td>36.0</td>\n",
       "      <td>straight &amp; narrow</td>\n",
       "      <td>34b</td>\n",
       "      <td>gown</td>\n",
       "      <td>fit</td>\n",
       "      <td>5' 6\"</td>\n",
       "      <td>153475</td>\n",
       "      <td>10.0</td>\n",
       "      <td>other</td>\n",
       "      <td>June 18, 2013</td>\n",
       "      <td>I felt so glamourous!!!</td>\n",
       "      <td>I rented this dress for a photo shoot. The the...</td>\n",
       "      <td>12</td>\n",
       "      <td>273551</td>\n",
       "      <td>132lbs</td>\n",
       "    </tr>\n",
       "    <tr>\n",
       "      <th>2</th>\n",
       "      <td>116.0</td>\n",
       "      <td>NaN</td>\n",
       "      <td>NaN</td>\n",
       "      <td>sheath</td>\n",
       "      <td>fit</td>\n",
       "      <td>5' 4\"</td>\n",
       "      <td>1063761</td>\n",
       "      <td>10.0</td>\n",
       "      <td>party</td>\n",
       "      <td>December 14, 2015</td>\n",
       "      <td>It was a great time to celebrate the (almost) ...</td>\n",
       "      <td>This hugged in all the right places! It was a ...</td>\n",
       "      <td>4</td>\n",
       "      <td>360448</td>\n",
       "      <td>NaN</td>\n",
       "    </tr>\n",
       "    <tr>\n",
       "      <th>3</th>\n",
       "      <td>34.0</td>\n",
       "      <td>pear</td>\n",
       "      <td>34c</td>\n",
       "      <td>dress</td>\n",
       "      <td>fit</td>\n",
       "      <td>5' 5\"</td>\n",
       "      <td>126335</td>\n",
       "      <td>8.0</td>\n",
       "      <td>formal affair</td>\n",
       "      <td>February 12, 2014</td>\n",
       "      <td>Dress arrived on time and in perfect condition.</td>\n",
       "      <td>I rented this for my company's black tie award...</td>\n",
       "      <td>8</td>\n",
       "      <td>909926</td>\n",
       "      <td>135lbs</td>\n",
       "    </tr>\n",
       "    <tr>\n",
       "      <th>4</th>\n",
       "      <td>27.0</td>\n",
       "      <td>athletic</td>\n",
       "      <td>34b</td>\n",
       "      <td>gown</td>\n",
       "      <td>fit</td>\n",
       "      <td>5' 9\"</td>\n",
       "      <td>616682</td>\n",
       "      <td>10.0</td>\n",
       "      <td>wedding</td>\n",
       "      <td>September 26, 2016</td>\n",
       "      <td>Was in love with this dress !!!</td>\n",
       "      <td>I have always been petite in my upper body and...</td>\n",
       "      <td>12</td>\n",
       "      <td>151944</td>\n",
       "      <td>145lbs</td>\n",
       "    </tr>\n",
       "  </tbody>\n",
       "</table>\n",
       "</div>"
      ],
      "text/plain": [
       "     age          body type bust size category  fit height  item_id  rating  \\\n",
       "0   28.0          hourglass       34d   romper  fit  5' 8\"  2260466    10.0   \n",
       "1   36.0  straight & narrow       34b     gown  fit  5' 6\"   153475    10.0   \n",
       "2  116.0                NaN       NaN   sheath  fit  5' 4\"  1063761    10.0   \n",
       "3   34.0               pear       34c    dress  fit  5' 5\"   126335     8.0   \n",
       "4   27.0           athletic       34b     gown  fit  5' 9\"   616682    10.0   \n",
       "\n",
       "      rented for         review_date  \\\n",
       "0       vacation      April 20, 2016   \n",
       "1          other       June 18, 2013   \n",
       "2          party   December 14, 2015   \n",
       "3  formal affair   February 12, 2014   \n",
       "4        wedding  September 26, 2016   \n",
       "\n",
       "                                      review_summary  \\\n",
       "0                               So many compliments!   \n",
       "1                            I felt so glamourous!!!   \n",
       "2  It was a great time to celebrate the (almost) ...   \n",
       "3   Dress arrived on time and in perfect condition.    \n",
       "4                    Was in love with this dress !!!   \n",
       "\n",
       "                                         review_text  size  user_id  weight  \n",
       "0  An adorable romper! Belt and zipper were a lit...    14   420272  137lbs  \n",
       "1  I rented this dress for a photo shoot. The the...    12   273551  132lbs  \n",
       "2  This hugged in all the right places! It was a ...     4   360448     NaN  \n",
       "3  I rented this for my company's black tie award...     8   909926  135lbs  \n",
       "4  I have always been petite in my upper body and...    12   151944  145lbs  "
      ]
     },
     "execution_count": 2,
     "metadata": {},
     "output_type": "execute_result"
    }
   ],
   "source": [
    "#this is for the renttherunway stuff\n",
    "df = pd.read_json('clothing-fit-dataset-for-size-recommendation/renttherunway_final_data.json', lines=True)\n",
    "df.head()"
   ]
  },
  {
   "cell_type": "code",
   "execution_count": 3,
   "metadata": {
    "scrolled": true
   },
   "outputs": [
    {
     "name": "stdout",
     "output_type": "stream",
     "text": [
      "18411 waist\n",
      "677 waist\n",
      "82 waist\n",
      "0 waist\n",
      "0 waist\n",
      "   bust size  height  rating  size  cup size\n",
      "0  34.000000    68.0    10.0    14  4.000000\n",
      "1  34.000000    66.0    10.0    12  2.000000\n",
      "2  34.201271    64.0    10.0     4  2.958239\n",
      "3  34.000000    65.0     8.0     8  3.000000\n",
      "4  34.000000    69.0    10.0    12  2.000000\n"
     ]
    },
    {
     "data": {
      "text/plain": [
       "array([1, 1, 1, ..., 2, 2, 2])"
      ]
     },
     "execution_count": 3,
     "metadata": {},
     "output_type": "execute_result"
    }
   ],
   "source": [
    "df[\"cup size\"] = df[\"bust size\"].map(lambda x:  re.findall(r'[A-Za-z]+',str(x))[0] )\n",
    "df[\"bust size\"] = df[\"bust size\"].map(lambda x: re.findall(r'[0-9]+',str(x)) ).map(lambda x:  np.nan if len(x) == 0 else x[0])\n",
    "di = {\"aa\": 0, \"a\": 1, \"b\": 2, \"c\": 3, \"d\": 4, \"dd\": 5, \"ddd\": 6, \"f\": 6, \"g\": 7, \"h\": 8, \"i\": 9, \"j\": 10, \"k\": 11}\n",
    "df = df.replace({\"cup size\": di})\n",
    "di = {\"small\": 1, \"fit\": 2, \"large\": 3}\n",
    "di = {\"small\": 1, \"fit\": 2, \"large\": 3}\n",
    "df = df.replace({\"fit\": di})\n",
    "y1 = df[\"fit\"]\n",
    "df = df.drop(columns=['fit', 'age', 'body type', 'category', 'item_id', 'rented for', 'review_date', 'review_summary', 'review_text', 'user_id', 'weight'])\n",
    "df[\"height\"] = df[\"height\"].map(lambda x: translate_height(x))\n",
    "#df = df[['bust size', 'cup size', 'height', 'rating', 'size']]\n",
    "\n",
    "for col in df:\n",
    "    print(df[col].isna().sum(), column)\n",
    "    df[col] = pd.to_numeric(df[col], errors=\"coerce\")\n",
    "    df[col] = df[col].fillna(value=df[col].mean())\n",
    "print(df.head())\n",
    "x1 = df.values.astype(int)\n",
    "np.append(x, x1)\n",
    "np.append(y, y1)"
   ]
  },
  {
   "cell_type": "code",
   "execution_count": 4,
   "metadata": {},
   "outputs": [
    {
     "data": {
      "text/plain": [
       "72837    2\n",
       "54733    1\n",
       "72873    2\n",
       "24557    2\n",
       "30416    3\n",
       "12668    2\n",
       "22895    1\n",
       "77163    2\n",
       "81356    1\n",
       "77080    1\n",
       "26279    2\n",
       "236      3\n",
       "24646    2\n",
       "67887    2\n",
       "64166    2\n",
       "36991    2\n",
       "28810    2\n",
       "42834    2\n",
       "32736    2\n",
       "4997     2\n",
       "44177    3\n",
       "27960    2\n",
       "79140    2\n",
       "51697    2\n",
       "69482    3\n",
       "14617    2\n",
       "26497    2\n",
       "13454    1\n",
       "22603    2\n",
       "82478    2\n",
       "        ..\n",
       "59202    2\n",
       "45106    2\n",
       "66974    2\n",
       "66429    2\n",
       "56567    2\n",
       "71224    2\n",
       "35515    2\n",
       "22505    2\n",
       "41428    2\n",
       "14141    2\n",
       "31797    1\n",
       "68170    2\n",
       "33776    3\n",
       "73866    1\n",
       "50920    3\n",
       "77038    1\n",
       "28194    3\n",
       "63726    2\n",
       "50436    1\n",
       "51874    1\n",
       "53657    3\n",
       "24764    2\n",
       "17723    2\n",
       "76482    3\n",
       "49690    1\n",
       "26673    2\n",
       "47007    2\n",
       "73553    2\n",
       "72733    2\n",
       "81196    2\n",
       "Name: fit, Length: 16558, dtype: int64"
      ]
     },
     "execution_count": 4,
     "metadata": {},
     "output_type": "execute_result"
    }
   ],
   "source": [
    "#now split into training and testing data\n",
    "import numpy as np\n",
    "from sklearn.model_selection import train_test_split\n",
    "X_train, X_test, y_train, y_test = train_test_split(x, y, test_size = .80)\n",
    "y_train"
   ]
  },
  {
   "cell_type": "code",
   "execution_count": 5,
   "metadata": {},
   "outputs": [
    {
     "name": "stdout",
     "output_type": "stream",
     "text": [
      "Accuracy of:  0.6845784515038048\n"
     ]
    },
    {
     "name": "stderr",
     "output_type": "stream",
     "text": [
      "//anaconda3/lib/python3.7/site-packages/sklearn/linear_model/logistic.py:432: FutureWarning: Default solver will be changed to 'lbfgs' in 0.22. Specify a solver to silence this warning.\n",
      "  FutureWarning)\n",
      "//anaconda3/lib/python3.7/site-packages/sklearn/linear_model/logistic.py:469: FutureWarning: Default multi_class will be changed to 'auto' in 0.22. Specify the multi_class option to silence this warning.\n",
      "  \"this warning.\", FutureWarning)\n"
     ]
    }
   ],
   "source": [
    "#test logistic regresion to see if my splits are working\n",
    "from sklearn.linear_model import LogisticRegression\n",
    "from sklearn.metrics import accuracy_score\n",
    "clf = LogisticRegression(fit_intercept=False)\n",
    "clf.fit(X_train, y_train)\n",
    "\n",
    "yhat = clf.predict(X_test)\n",
    "print('Accuracy of: ',accuracy_score(y_test,yhat))"
   ]
  },
  {
   "cell_type": "markdown",
   "metadata": {},
   "source": [
    "## Regurlzarization\n"
   ]
  },
  {
   "cell_type": "code",
   "execution_count": 6,
   "metadata": {},
   "outputs": [],
   "source": [
    "class BinaryLogisticRegressionBase:\n",
    "    # private:\n",
    "    def __init__(self, eta, iterations=20):\n",
    "        self.eta = eta\n",
    "        self.iters = iterations\n",
    "        # internally we will store the weights as self.w_ to keep with sklearn conventions\n",
    "    \n",
    "    def __str__(self):\n",
    "        return 'Base Binary Logistic Regression Object, Not Trainable'\n",
    "    \n",
    "    # convenience, private and static:\n",
    "    @staticmethod\n",
    "    def _sigmoid(theta):\n",
    "        return 1/(1+np.exp(-theta)) \n",
    "    \n",
    "    @staticmethod\n",
    "    def _add_bias(X):\n",
    "        return np.hstack((np.ones((X.shape[0],1)),X)) # add bias term\n",
    "    \n",
    "    # public:\n",
    "    def predict_proba(self,X,add_bias=True):\n",
    "        # this typically gives us the probability of a specific class\n",
    "        # we need a bias term \n",
    "        # add bias term if requested\n",
    "        Xb = self._add_bias(X) if add_bias else X\n",
    "        # this will take the x with the bias term and multiplies it by w. This will give us a scalr quantity\n",
    "        return self._sigmoid(Xb @ self.w_) # return the probability y=1\n",
    "    \n",
    "    def predict(self,X):\n",
    "        # if we actually want to do a prediction we are seeing if it is greater than point 5. vector of ones were it is greater than .5 and 0 when it is below .5\n",
    "        # When one is greater than the other it would be greater than .5\n",
    "        return (self.predict_proba(X)>0.5) #return the actual prediction"
   ]
  },
  {
   "cell_type": "code",
   "execution_count": 7,
   "metadata": {},
   "outputs": [],
   "source": [
    "class BinaryLogisticRegression(BinaryLogisticRegressionBase):\n",
    "    #private:\n",
    "    def __str__(self):\n",
    "        if(hasattr(self,'w_')):\n",
    "            return 'Binary Logistic Regression Object with coefficients:\\n'+ str(self.w_) # is we have trained the object\n",
    "        else:\n",
    "            return 'Untrained Binary Logistic Regression Object'\n",
    "        \n",
    "    def _get_gradient(self,X,y):\n",
    "        # programming \\sum_i (yi-g(xi))xi\n",
    "        #for each vector x we want to out it throught he sigmoid suntract it from y and add it to the gradient function\n",
    "        gradient = np.zeros(self.w_.shape) # set gradient to zero\n",
    "        for (xi,yi) in zip(X,y):\n",
    "            # the actual update inside of sum\n",
    "            gradi = (yi - self.predict_proba(xi,add_bias=False))*xi \n",
    "            # reshape to be column vector and add to gradient\n",
    "            gradient += gradi.reshape(self.w_.shape) \n",
    "        #return gradient divided by the total number of points\n",
    "        return gradient/float(len(y))\n",
    "       \n",
    "    # public:\n",
    "    def fit(self, X, y):\n",
    "        #this is going to get features and labels. We are going to say x wtih a bias is ther (col of 1s)\n",
    "        #the shape is the # of samples (rows ) by # of features (cols)\n",
    "        #w always starts at 0 usually. \n",
    "        Xb = self._add_bias(X) # add bias term\n",
    "        num_samples, num_features = Xb.shape\n",
    "        \n",
    "        self.w_ = np.zeros((num_features,1)) # init weight vector to zeros\n",
    "        \n",
    "        # for as many as the max iterations\n",
    "        # whats the gradient?? and internall we are updating self.w_ in this\n",
    "        \n",
    "        for _ in range(self.iters):\n",
    "            gradient = self._get_gradient(Xb,y)\n",
    "            \n",
    "            self.w_ += gradient*self.eta # multiply by learning rate \n",
    "\n",
    "           "
   ]
  },
  {
   "cell_type": "code",
   "execution_count": 8,
   "metadata": {},
   "outputs": [],
   "source": [
    "from scipy.special import expit\n",
    "class VectorBinaryLogisticRegression(BinaryLogisticRegression):\n",
    "    # inherit from our previous class to get same functionality\n",
    "    @staticmethod\n",
    "    def _sigmoid(theta):\n",
    "        # increase stability, redefine sigmoid operation\n",
    "        return expit(theta) #1/(1+np.exp(-theta))\n",
    "    \n",
    "    # but overwrite the gradient calculation\n",
    "    def _get_gradient(self,X,y):\n",
    "        ydiff = y-self.predict_proba(X,add_bias=False).ravel() # get y difference\n",
    "        gradient = np.mean(X * ydiff[:,np.newaxis], axis=0) # make ydiff a column vector and multiply through\n",
    "        \n",
    "        return gradient.reshape(self.w_.shape)"
   ]
  },
  {
   "cell_type": "code",
   "execution_count": 9,
   "metadata": {},
   "outputs": [],
   "source": [
    "class LogisticRegression:\n",
    "    def __init__(self, eta, iterations=20):\n",
    "        self.eta = eta\n",
    "        self.iters = iterations\n",
    "        # internally we will store the weights as self.w_ to keep with sklearn conventions\n",
    "    \n",
    "    def __str__(self):\n",
    "        if(hasattr(self,'w_')):\n",
    "            return 'MultiClass Logistic Regression Object with coefficients:\\n'+ str(self.w_) # is we have trained the object\n",
    "        else:\n",
    "            return 'Untrained MultiClass Logistic Regression Object'\n",
    "        \n",
    "    def fit(self,X,y):\n",
    "        num_samples, num_features = X.shape\n",
    "        self.unique_ = np.unique(y) # get each unique class value\n",
    "        num_unique_classes = len(self.unique_)\n",
    "        self.classifiers_ = [] # will fill this array with binary classifiers\n",
    "#         for i, val in self.unique_[:-1]:\n",
    "#             y_binary = y.map(lambda q: q == val or q == self.unique[i+1])\n",
    "#             blr = VectorBinaryLogisticRegression(self.eta,self.iters)\n",
    "#             blr.fit(X,y_binary)\n",
    "#             # add the trained classifier to the list\n",
    "#             self.classifiers_.append(blr)\n",
    "        for i,yval in enumerate(self.unique_): # for each unique value\n",
    "           y_binary = (y==yval) # create a binary problem whenever class is 0 (big class), y binary will be 1\n",
    "           # train the binary classifier for this class\n",
    "           blr = VectorBinaryLogisticRegression(self.eta,self.iters)\n",
    "           blr.fit(X,y_binary)\n",
    "           # add the trained classifier to the list\n",
    "           self.classifiers_.append(blr)\n",
    "            \n",
    "        # save all the weights into one matrix, separate column for each class\n",
    "        self.w_ = np.hstack([x.w_ for x in self.classifiers_]).T\n",
    "        \n",
    "    def predict_proba(self,X):\n",
    "        probs = []\n",
    "        for blr in self.classifiers_:\n",
    "            probs.append(blr.predict_proba(X)) # get probability for each classifier\n",
    "        \n",
    "        return np.hstack(probs) # make into single matrix\n",
    "    \n",
    "    def predict(self,X):\n",
    "        return self.unique_[np.argmax(self.predict_proba(X),axis=1)] # take argmax along row\n",
    "    \n",
    "#print(X)\n",
    "#print(y)"
   ]
  },
  {
   "cell_type": "code",
   "execution_count": 10,
   "metadata": {},
   "outputs": [],
   "source": [
    "#yhat = lr.predict(X_test)\n",
    "#print('Accuracy of: ',accuracy_score(y_test,yhat))\n"
   ]
  },
  {
   "cell_type": "code",
   "execution_count": 11,
   "metadata": {},
   "outputs": [],
   "source": [
    "class RegularizedBinaryLogisticRegression(VectorBinaryLogisticRegression):\n",
    "    # extend init functions\n",
    "    def __init__(self, C=0.0,reg=\"BOTH\", **kwds):        \n",
    "        # need to add to the original initializer \n",
    "        self.C = C\n",
    "        self.reg = reg\n",
    "        # but keep other keywords\n",
    "        super().__init__(**kwds) # call parent initializer\n",
    "        \n",
    "        \n",
    "    # extend previous class to change functionality\n",
    "    def _get_gradient(self,X,y):\n",
    "        # call get gradient from previous class\n",
    "        gradient = super()._get_gradient(X,y)\n",
    "        # add in regularization (to all except bias term)\n",
    "        #this is L1\n",
    "        div = np.divide(np.absolute(self.w_[1:]).T[0],\n",
    "                        self.w_[1:,0],\n",
    "                        out=np.zeros_like(np.absolute(self.w_[1:]).T[0]),\n",
    "                        where=self.w_[1:,0]!=0)\n",
    "        div = div.T.reshape(self.w_[1:].shape)\n",
    "        if self.reg == \"L1\" or self.reg == \"BOTH\":\n",
    "            gradient[1:] += -1 * div  * self.C\n",
    "        if self.reg == \"BOTH\" or self.reg == \"L2\":\n",
    "            gradient[1:] += -2 * self.w_[1:] * self.C\n",
    "        return gradient\n",
    "        "
   ]
  },
  {
   "cell_type": "code",
   "execution_count": 12,
   "metadata": {},
   "outputs": [],
   "source": [
    "# now redefine the Logistic Regression Function where needed\n",
    "import itertools\n",
    "def get_uniq(s, s1, s2):\n",
    "    if s == s1 or s == s2:\n",
    "        return s\n",
    "    else:\n",
    "        return None\n",
    "class RegularizedLogisticRegression(LogisticRegression):\n",
    "    def __init__(self, C=0.0,reg=\"BOTH\", **kwds):        \n",
    "        # need to add to the original initializer \n",
    "        self.C = C\n",
    "        self.reg = reg\n",
    "        # but keep other keywords\n",
    "        super().__init__(**kwds) # call parent initializer\n",
    "        \n",
    "    def fit(self,X,y):\n",
    "        num_samples, num_features = X.shape\n",
    "        self.unique_ = np.unique(y) # get each unique class value\n",
    "        num_unique_classes = len(self.unique_)\n",
    "        self.classifiers_ = [] # will fill this array with binary classifiers\n",
    "        iters = list(itertools.combinations(self.unique_, 2))\n",
    "        print(iters, \"ITER\")\n",
    "#         for i in iters:\n",
    "            \n",
    "#             y_binary = y.map(lambda q: get_uniq(q, i[0], i[1]) )\n",
    "#             x_uniq = np.where(np.isin(y, i))\n",
    "#             print(y_binary.dropna(), len(y_binary.dropna()))\n",
    "            \n",
    "#             blr = RegularizedBinaryLogisticRegression(eta=self.eta,\n",
    "#                                                       iterations=self.iters,\n",
    "#                                                       C=self.C,\n",
    "#                                                      reg=self.reg)\n",
    "#             #print(len(X[x_uniq[0],:]),len(y_binary.dropna()))\n",
    "#             blr.fit(X[x_uniq[0],:],y_binary.dropna())\n",
    "#             # add the trained classifier to the list\n",
    "#             #print(blr)\n",
    "#             self.classifiers_.append(blr)\n",
    "        \n",
    "        for i,yval in enumerate(self.unique_): # for each unique value\n",
    "            y_binary = y==yval # create a binary problem\n",
    "            # train the binary classifier for this class\n",
    "            blr = RegularizedBinaryLogisticRegression(eta=self.eta,\n",
    "                                                      iterations=self.iters,\n",
    "                                                      C=self.C)\n",
    "            blr.fit(X,y_binary)\n",
    "            # add the trained classifier to the list\n",
    "            self.classifiers_.append(blr)\n",
    "            \n",
    "        # save all the weights into one matrix, separate column for each class\n",
    "        self.w_ = np.hstack([x.w_ for x in self.classifiers_]).T"
   ]
  },
  {
   "cell_type": "code",
   "execution_count": null,
   "metadata": {},
   "outputs": [],
   "source": []
  },
  {
   "cell_type": "code",
   "execution_count": 13,
   "metadata": {},
   "outputs": [
    {
     "name": "stdout",
     "output_type": "stream",
     "text": [
      "[(1, 2), (1, 3), (2, 3)] ITER\n",
      "MultiClass Logistic Regression Object with coefficients:\n",
      "[[-7.91562457e+00 -1.26049310e+00 -3.26425859e-02 -2.57153874e+00\n",
      "  -1.04031988e-01 -2.41319165e-01]\n",
      " [ 5.72891050e+00  6.70700128e-01  3.38867415e-02  1.55558051e+00\n",
      "   4.61711574e-02 -8.16635860e-02]\n",
      " [-7.39421026e+00  1.08491126e-01  6.03669360e-03  1.53079341e-01\n",
      "   7.99092227e-03  9.20618737e-02]]\n"
     ]
    }
   ],
   "source": [
    "lr = RegularizedLogisticRegression(eta=0.1,\n",
    "                                           iterations=2500,\n",
    "                                           C=.4, \n",
    "                                  reg = \"L2\") # get object(0.1,500)\n",
    "lr.fit(X_train,y_train)\n",
    "print(lr)\n"
   ]
  },
  {
   "cell_type": "code",
   "execution_count": 14,
   "metadata": {},
   "outputs": [
    {
     "name": "stdout",
     "output_type": "stream",
     "text": [
      "Accuracy of:  0.684563353061964\n"
     ]
    },
    {
     "data": {
      "text/plain": [
       "array([2])"
      ]
     },
     "execution_count": 14,
     "metadata": {},
     "output_type": "execute_result"
    }
   ],
   "source": [
    "yhat = lr.predict(X_test)\n",
    "print('Accuracy of: ',accuracy_score(y_test,yhat))\n",
    "i, l = np.unique(yhat, return_counts=True)\n",
    "i"
   ]
  },
  {
   "cell_type": "code",
   "execution_count": 15,
   "metadata": {},
   "outputs": [],
   "source": [
    "#minibatch s essentially just running regression a smaller batch. This will be much faster with hopefully similar accuracy.\n",
    "from numpy import random\n",
    "class StochasticGradientDescent(RegularizedLogisticRegression):\n",
    "    def __init__(self,size=1000,reg=\"BOTH\", **kwds):\n",
    "        self.reg = reg\n",
    "        self.size = size\n",
    "            #make sure to pass c, eta and iterations\n",
    "        super().__init__(**kwds) # call parent initializer\n",
    "        \n",
    "    def fit(self, X, y):\n",
    "        num_samples, num_features = X.shape\n",
    "        #get a random sample \n",
    "        x_slice = X[self.size:self.size*2,:]\n",
    "        y_slice = y[self.size:self.size*2]\n",
    "        #print(y_slice)\n",
    "        self.unique_ = np.unique(y_slice) # get each unique class value\n",
    "        \n",
    "        num_unique_classes = len(self.unique_)\n",
    "        self.classifiers_ = [] # will fill this array with binary classifiers\n",
    "        #then we will\n",
    "        #print(np.unique(y_slice))\n",
    "        #there are nans in here\n",
    "        #print(self.unique_)\n",
    "        #for i, val in enumerate(self.unique_[:-1]):\n",
    "            #y_binary = y.map(lambda q: get_uniq(q, val, self.unique_[i+1]) )\n",
    "            #x_uniq = np.where(np.isin(y, [val, self.unique_[i+1]]))\n",
    "            #print(len(X), len(y_binary.dropna()), \"LENGTHS\")\n",
    "            #print((np.where(np.isin(y, [val, self.unique_[i+1]]))[0]), \"unique len\")\n",
    "            #print((x_uniq[0]),len(x_uniq[0]), \"UNIQUIQ\")\n",
    "            #print(X[x_uniq[0],:], \"uniq\")\n",
    "            #blr = RegularizedBinaryLogisticRegression(eta=self.eta,\n",
    "            #                                          iterations=self.iters,\n",
    "            #                                          C=self.C,\n",
    "            #                                         reg=self.reg)\n",
    "            #print(len(X[x_uniq[0],:]),len(y_binary.dropna()))\n",
    "            #blr.fit(X[x_uniq[0],:],y_binary.dropna())\n",
    "            # add the trained classifier to the list\n",
    "            #print(blr)\n",
    "            #self.classifiers_.append(blr)\n",
    "        for i,yval in enumerate(self.unique_): # for each unique value\n",
    "            y_binary = y_slice==yval # create a binary problem\n",
    "            # train the binary classifier for this class\n",
    "            blr = RegularizedBinaryLogisticRegression(eta=self.eta,\n",
    "                                                      iterations=self.iters,\n",
    "                                                          C=self.C,\n",
    "                                                     reg=self.reg)\n",
    "            blr.fit(x_slice,y_binary)\n",
    "                # add the trained classifier to the list\n",
    "            self.classifiers_.append(blr)\n",
    "\n",
    "        # save all the weights into one matrix, separate column for each class\n",
    "        self.w_ = np.hstack([x.w_ for x in self.classifiers_]).T\n",
    "        #stochastic takes a single sample \n",
    "\n"
   ]
  },
  {
   "cell_type": "code",
   "execution_count": 16,
   "metadata": {},
   "outputs": [
    {
     "name": "stdout",
     "output_type": "stream",
     "text": [
      "MultiClass Logistic Regression Object with coefficients:\n",
      "[[-1.73458853e+01 -2.90708755e+00 -3.63888771e-01 -5.30915788e+00\n",
      "  -4.36688416e-01 -8.93266861e-01]\n",
      " [ 5.35000002e+00  5.65109290e-02 -7.49701188e-02  3.02262295e-01\n",
      "  -1.07788620e-02 -2.37622951e-02]\n",
      " [-1.72260522e+01 -2.93168505e+00 -3.76098089e-01 -5.36141280e+00\n",
      "  -4.16719555e-01 -8.94898148e-01]]\n"
     ]
    }
   ],
   "source": [
    "#print(y_train)\n",
    "#5194\n",
    "ls = StochasticGradientDescent(eta=0.1,\n",
    "                                           iterations=2500, size=3000,\n",
    "                                           C=1,\n",
    "                              reg=\"L2\") # get object(0.1,500)\n",
    "\n",
    "#print( len(y_train))\n",
    "\n",
    "ls.fit(X_train,y_train)\n",
    "print(ls)\n"
   ]
  },
  {
   "cell_type": "code",
   "execution_count": 17,
   "metadata": {},
   "outputs": [
    {
     "name": "stdout",
     "output_type": "stream",
     "text": [
      "Accuracy of:  0.684563353061964\n"
     ]
    },
    {
     "data": {
      "text/plain": [
       "array([2])"
      ]
     },
     "execution_count": 17,
     "metadata": {},
     "output_type": "execute_result"
    }
   ],
   "source": [
    "yhat = ls.predict(X_test)\n",
    "print('Accuracy of: ',accuracy_score(y_test,yhat))\n",
    "i, l = np.unique(yhat, return_counts=True)\n",
    "i"
   ]
  },
  {
   "cell_type": "code",
   "execution_count": 21,
   "metadata": {},
   "outputs": [],
   "source": [
    "class Newton(RegularizedLogisticRegression):\n",
    "    def sig(theta):\n",
    "        return 1/(1+np.exp(-theta)) \n",
    "    \n",
    "    def __init__(self,size=1000, **kwds):\n",
    "        self.size = size\n",
    "            #make sure to pass c, eta and iterations\n",
    "        super().__init__(**kwds) # call parent initializer\n",
    "        \n",
    "    # extend previous class to change functionality\n",
    "    def _get_gradient(self,X,y):\n",
    "        # call get gradient from previous class\n",
    "        gradient = super()._get_gradient(X,y)\n",
    "        \n",
    "        S = diag(self.sig(X @ self.w_)*(1-self.sig(X @ self.w_)))\n",
    "        hessian = (X.T*S*X)\n",
    "        H_inv = np.linalg.inv(hessian)\n",
    "#         g = (X.T((self.sig(X @ self.w_)) - y))\n",
    "        newt_update = H_inv * gradient\n",
    "        gradient = newt_update\n",
    "        return gradient\n",
    "        \n",
    "    def fit(self, X, y):   \n",
    "        num_samples, num_features = X.shape\n",
    "        self.unique_ = np.unique(y) # get each unique class value\n",
    "        num_unique_classes = len(self.unique_)\n",
    "        self.classifiers_ = [] # will fill this array with binary classifiers\n",
    "        \n",
    "        for i,yval in enumerate(self.unique_): # for each unique value\n",
    "            y_binary = y==yval # create a binary problem\n",
    "            # train the binary classifier for this class\n",
    "            blr = RegularizedBinaryLogisticRegression(eta=self.eta,\n",
    "                                                      iterations=self.iters,\n",
    "                                                      C=self.C)\n",
    "            blr.fit(X,y_binary)\n",
    "            # add the trained classifier to the list\n",
    "            print(blr)\n",
    "            self.classifiers_.append(blr)\n",
    "            \n",
    "        # save all the weights into one matrix, separate column for each class\n",
    "        self.w_ = np.hstack([x.w_ for x in self.classifiers_]).T\n"
   ]
  },
  {
   "cell_type": "code",
   "execution_count": 22,
   "metadata": {},
   "outputs": [
    {
     "name": "stdout",
     "output_type": "stream",
     "text": [
      "Binary Logistic Regression Object with coefficients:\n",
      "[[-7.91562457]\n",
      " [-1.2604931 ]\n",
      " [-0.03264259]\n",
      " [-2.57153874]\n",
      " [-0.10403199]\n",
      " [-0.24131917]]\n",
      "Binary Logistic Regression Object with coefficients:\n",
      "[[ 5.7289105 ]\n",
      " [ 0.67070013]\n",
      " [ 0.03388674]\n",
      " [ 1.55558051]\n",
      " [ 0.04617116]\n",
      " [-0.08166359]]\n",
      "Binary Logistic Regression Object with coefficients:\n",
      "[[-7.39421026e+00]\n",
      " [ 1.08491126e-01]\n",
      " [ 6.03669360e-03]\n",
      " [ 1.53079341e-01]\n",
      " [ 7.99092227e-03]\n",
      " [ 9.20618737e-02]]\n",
      "Accuracy of:  0.684563353061964\n"
     ]
    }
   ],
   "source": [
    "ls = Newton(eta=0.1,iterations=2500, \n",
    "                   size=1000, C=0.4, reg=\"L2\")\n",
    "ls.fit(X_train,y_train)\n",
    "yhat = ls.predict(X_test)\n",
    "print('Accuracy of: ',accuracy_score(y_test,yhat))\n",
    "    "
   ]
  },
  {
   "cell_type": "code",
   "execution_count": 23,
   "metadata": {
    "scrolled": true
   },
   "outputs": [
    {
     "name": "stdout",
     "output_type": "stream",
     "text": [
      "(array([1, 2, 3]), array([ 2589, 11417,  2552]))\n",
      "L1\n",
      "0.001 C\n",
      "0.001 E\n",
      "[(1, 2), (1, 3), (2, 3)] ITER\n",
      "(array([2]), array([66232]))\n",
      "0.684563353061964\n",
      "(array([1, 2]), array([   63, 66169]))\n",
      "0.6846841405966905\n",
      "Binary Logistic Regression Object with coefficients:\n",
      "[[-0.00214301]\n",
      " [-0.00969978]\n",
      " [ 0.01764004]\n",
      " [-0.01636802]\n",
      " [-0.15345008]\n",
      " [ 0.02075314]]\n",
      "Binary Logistic Regression Object with coefficients:\n",
      "[[ 0.00152712]\n",
      " [ 0.01792046]\n",
      " [-0.00636518]\n",
      " [-0.00040998]\n",
      " [ 0.16381699]\n",
      " [-0.03419006]]\n",
      "Binary Logistic Regression Object with coefficients:\n",
      "[[-0.00109255]\n",
      " [-0.03363519]\n",
      " [-0.01052506]\n",
      " [-0.01288879]\n",
      " [-0.0302366 ]\n",
      " [ 0.03843873]]\n",
      "0.01 E\n",
      "[(1, 2), (1, 3), (2, 3)] ITER\n",
      "(array([2]), array([66232]))\n",
      "0.684563353061964\n",
      "(array([1, 2]), array([ 1111, 65121]))\n",
      "0.6820268148327092\n",
      "Binary Logistic Regression Object with coefficients:\n",
      "[[-0.01278986]\n",
      " [-0.11192646]\n",
      " [ 0.12045092]\n",
      " [-0.23950815]\n",
      " [-1.25894657]\n",
      " [-0.01648951]]\n",
      "Binary Logistic Regression Object with coefficients:\n",
      "[[ 0.00945262]\n",
      " [ 0.12750354]\n",
      " [-0.05288618]\n",
      " [ 0.08916587]\n",
      " [ 1.61584937]\n",
      " [-0.49444101]]\n",
      "Binary Logistic Regression Object with coefficients:\n",
      "[[-0.00045244]\n",
      " [-0.20391378]\n",
      " [-0.08444939]\n",
      " [-0.121842  ]\n",
      " [-0.21489699]\n",
      " [ 0.14858683]]\n",
      "0.1 E\n",
      "[(1, 2), (1, 3), (2, 3)] ITER\n",
      "(array([2]), array([66232]))\n",
      "0.684563353061964\n",
      "(array([1, 2]), array([45646, 20586]))\n",
      "0.3683415871482063\n",
      "Binary Logistic Regression Object with coefficients:\n",
      "[[-0.1522988 ]\n",
      " [-1.53913604]\n",
      " [ 0.85682547]\n",
      " [-3.07421352]\n",
      " [-9.6231859 ]\n",
      " [-0.20893808]]\n",
      "Binary Logistic Regression Object with coefficients:\n",
      "[[ 0.05703793]\n",
      " [ 0.15023349]\n",
      " [-0.29188237]\n",
      " [-0.87243445]\n",
      " [12.28004937]\n",
      " [-5.07006923]]\n",
      "Binary Logistic Regression Object with coefficients:\n",
      "[[-0.06027382]\n",
      " [-3.17350192]\n",
      " [-0.77274114]\n",
      " [-3.74430422]\n",
      " [-1.83277095]\n",
      " [ 0.12531243]]\n",
      "0.01 C\n",
      "0.001 E\n",
      "[(1, 2), (1, 3), (2, 3)] ITER\n",
      "(array([2]), array([66232]))\n",
      "0.684563353061964\n",
      "(array([1, 2]), array([   28, 66204]))\n",
      "0.6846690421548496\n",
      "Binary Logistic Regression Object with coefficients:\n",
      "[[-0.0026519 ]\n",
      " [-0.0037277 ]\n",
      " [ 0.00228917]\n",
      " [-0.01964066]\n",
      " [-0.13328671]\n",
      " [ 0.01918324]]\n",
      "Binary Logistic Regression Object with coefficients:\n",
      "[[ 2.06398554e-03]\n",
      " [ 1.36829271e-02]\n",
      " [-3.29666618e-06]\n",
      " [ 2.38130506e-03]\n",
      " [ 1.45071027e-01]\n",
      " [-3.27846711e-02]]\n",
      "Binary Logistic Regression Object with coefficients:\n",
      "[[-1.64274157e-03]\n",
      " [-2.76902090e-02]\n",
      " [-2.42433219e-06]\n",
      " [-1.71126455e-02]\n",
      " [-1.26381057e-02]\n",
      " [ 3.51484937e-02]]\n",
      "0.01 E\n",
      "[(1, 2), (1, 3), (2, 3)] ITER\n",
      "(array([2, 3]), array([61352,  4880]))\n",
      "0.6621270684865322\n",
      "(array([2, 3]), array([59641,  6591]))\n",
      "0.6534152675443894\n",
      "Binary Logistic Regression Object with coefficients:\n",
      "[[-0.01576481]\n",
      " [-0.01142102]\n",
      " [ 0.0267442 ]\n",
      " [-0.09007371]\n",
      " [-0.9664444 ]\n",
      " [ 0.07594929]]\n",
      "Binary Logistic Regression Object with coefficients:\n",
      "[[ 0.01468636]\n",
      " [ 0.10226017]\n",
      " [-0.01169266]\n",
      " [ 0.13284121]\n",
      " [ 1.18821805]\n",
      " [-0.50081183]]\n",
      "Binary Logistic Regression Object with coefficients:\n",
      "[[-0.00452668]\n",
      " [-0.05906639]\n",
      " [ 0.00112211]\n",
      " [ 0.01236305]\n",
      " [-0.05190307]\n",
      " [ 0.18259878]]\n",
      "0.1 E\n",
      "[(1, 2), (1, 3), (2, 3)] ITER\n",
      "(array([2]), array([66232]))\n",
      "0.684563353061964\n",
      "(array([2]), array([66232]))\n",
      "0.684563353061964\n",
      "Binary Logistic Regression Object with coefficients:\n",
      "[[-0.32646504]\n",
      " [-0.3634087 ]\n",
      " [ 0.16613658]\n",
      " [-0.87690942]\n",
      " [-2.66527243]\n",
      " [ 0.22641567]]\n",
      "Binary Logistic Regression Object with coefficients:\n",
      "[[ 0.30801845]\n",
      " [ 2.52282466]\n",
      " [ 0.19865858]\n",
      " [ 3.96391629]\n",
      " [ 3.37411174]\n",
      " [-0.6135679 ]]\n",
      "Binary Logistic Regression Object with coefficients:\n",
      "[[-0.23634716]\n",
      " [-0.91767155]\n",
      " [-0.03761124]\n",
      " [-1.31737934]\n",
      " [-0.25653784]\n",
      " [ 1.02889327]]\n",
      "0.1 C\n",
      "0.001 E\n",
      "[(1, 2), (1, 3), (2, 3)] ITER\n",
      "(array([2]), array([66232]))\n",
      "0.684563353061964\n",
      "(array([1, 2]), array([    3, 66229]))\n",
      "0.6845180577364416\n",
      "Binary Logistic Regression Object with coefficients:\n",
      "[[-6.88880303e-03]\n",
      " [-1.49576091e-04]\n",
      " [ 5.34251551e-05]\n",
      " [-2.68699558e-02]\n",
      " [-7.56718812e-05]\n",
      " [ 7.17550065e-03]]\n",
      "Binary Logistic Regression Object with coefficients:\n",
      "[[ 6.72251796e-03]\n",
      " [-8.01912679e-06]\n",
      " [-3.37711575e-05]\n",
      " [ 1.62976774e-02]\n",
      " [ 1.84353794e-04]\n",
      " [-2.21950436e-02]]\n",
      "Binary Logistic Regression Object with coefficients:\n",
      "[[-6.04816862e-03]\n",
      " [-4.97405994e-05]\n",
      " [-7.04375307e-05]\n",
      " [-2.90780156e-02]\n",
      " [-1.04669612e-04]\n",
      " [ 1.67437963e-02]]\n",
      "0.01 E\n",
      "[(1, 2), (1, 3), (2, 3)] ITER\n",
      "(array([1, 2]), array([    3, 66229]))\n",
      "0.6845180577364416\n",
      "(array([1, 2]), array([ 7169, 59063]))\n",
      "0.6424990940934896\n",
      "Binary Logistic Regression Object with coefficients:\n",
      "[[-0.06966897]\n",
      " [ 0.00877477]\n",
      " [ 0.01168172]\n",
      " [-0.09667987]\n",
      " [-0.00638903]\n",
      " [ 0.08352119]]\n",
      "Binary Logistic Regression Object with coefficients:\n",
      "[[ 0.07564178]\n",
      " [ 0.07640353]\n",
      " [-0.00055876]\n",
      " [ 0.24317627]\n",
      " [ 0.01462861]\n",
      " [-0.43117648]]\n",
      "Binary Logistic Regression Object with coefficients:\n",
      "[[-0.06678053]\n",
      " [-0.11468298]\n",
      " [-0.00669749]\n",
      " [-0.30488744]\n",
      " [-0.00795527]\n",
      " [ 0.099403  ]]\n",
      "0.1 E\n",
      "[(1, 2), (1, 3), (2, 3)] ITER\n",
      "(array([1, 3]), array([57371,  8861]))\n",
      "0.16120606353424327\n",
      "(array([2]), array([66232]))\n",
      "0.684563353061964\n",
      "Binary Logistic Regression Object with coefficients:\n",
      "[[-2.55997532e+00]\n",
      " [ 3.09254581e-01]\n",
      " [ 9.97194199e-02]\n",
      " [-1.57831683e-04]\n",
      " [ 1.16595075e-02]\n",
      " [ 6.17686760e-01]]\n",
      "Binary Logistic Regression Object with coefficients:\n",
      "[[ 1.60093463]\n",
      " [-0.67533406]\n",
      " [-0.11842896]\n",
      " [-0.98015673]\n",
      " [-0.00581505]\n",
      " [-0.84551825]]\n",
      "Binary Logistic Regression Object with coefficients:\n",
      "[[-2.38275842]\n",
      " [ 0.2648068 ]\n",
      " [ 0.10471464]\n",
      " [-0.05719416]\n",
      " [ 0.06310322]\n",
      " [ 0.8349923 ]]\n",
      "3 C\n",
      "0.001 E\n",
      "[(1, 2), (1, 3), (2, 3)] ITER\n",
      "(array([2]), array([66232]))\n",
      "0.684563353061964\n",
      "(array([2]), array([66232]))\n",
      "0.684563353061964\n",
      "Binary Logistic Regression Object with coefficients:\n",
      "[[-0.12217508]\n",
      " [-0.00130235]\n",
      " [-0.00015431]\n",
      " [-0.01778613]\n",
      " [-0.00299932]\n",
      " [-0.00088514]]\n",
      "Binary Logistic Regression Object with coefficients:\n",
      "[[ 0.11963328]\n",
      " [ 0.00113027]\n",
      " [-0.00131465]\n",
      " [ 0.00653179]\n",
      " [ 0.00291576]\n",
      " [ 0.0028122 ]]\n",
      "Binary Logistic Regression Object with coefficients:\n",
      "[[-1.21492893e-01]\n",
      " [-2.01297282e-05]\n",
      " [-2.29354924e-04]\n",
      " [-1.76859892e-02]\n",
      " [ 1.43591950e-03]\n",
      " [ 4.62634461e-05]]\n",
      "0.01 E\n",
      "[(1, 2), (1, 3), (2, 3)] ITER\n",
      "(array([2]), array([66232]))\n",
      "0.684563353061964\n",
      "(array([2]), array([66232]))\n",
      "0.684563353061964\n",
      "Binary Logistic Regression Object with coefficients:\n",
      "[[-1.18713031]\n",
      " [-0.16251093]\n",
      " [ 0.02842472]\n",
      " [-0.34148071]\n",
      " [ 0.02345503]\n",
      " [-0.06565979]]\n",
      "Binary Logistic Regression Object with coefficients:\n",
      "[[ 0.60198918]\n",
      " [ 0.01236962]\n",
      " [ 0.01355672]\n",
      " [ 0.0757129 ]\n",
      " [ 0.0060313 ]\n",
      " [-0.02916663]]\n",
      "Binary Logistic Regression Object with coefficients:\n",
      "[[-1.20321647]\n",
      " [-0.18971972]\n",
      " [ 0.00232178]\n",
      " [-0.35069856]\n",
      " [ 0.01393653]\n",
      " [-0.06999449]]\n",
      "0.1 E\n",
      "[(1, 2), (1, 3), (2, 3)] ITER\n",
      "(array([2]), array([66232]))\n",
      "0.684563353061964\n",
      "(array([2]), array([66232]))\n",
      "0.684563353061964\n",
      "Binary Logistic Regression Object with coefficients:\n",
      "[[-44.26013407]\n",
      " [ -0.3436648 ]\n",
      " [  0.34149398]\n",
      " [ -0.8361801 ]\n",
      " [  0.31989417]\n",
      " [  0.05887485]]\n",
      "Binary Logistic Regression Object with coefficients:\n",
      "[[47.18260901]\n",
      " [-0.44218501]\n",
      " [-0.24087177]\n",
      " [-0.60570695]\n",
      " [-0.22370924]\n",
      " [-0.3492114 ]]\n",
      "Binary Logistic Regression Object with coefficients:\n",
      "[[-44.8187764 ]\n",
      " [ -0.3585619 ]\n",
      " [  0.33796095]\n",
      " [ -0.86364917]\n",
      " [  0.32779569]\n",
      " [  0.2178498 ]]\n",
      "L2\n",
      "0.001 C\n",
      "0.001 E\n",
      "[(1, 2), (1, 3), (2, 3)] ITER\n",
      "(array([2]), array([66232]))\n",
      "0.684563353061964\n",
      "(array([1, 2]), array([   63, 66169]))\n",
      "0.6846841405966905\n",
      "Binary Logistic Regression Object with coefficients:\n",
      "[[-0.00214301]\n",
      " [-0.00969978]\n",
      " [ 0.01764004]\n",
      " [-0.01636802]\n",
      " [-0.15345008]\n",
      " [ 0.02075314]]\n",
      "Binary Logistic Regression Object with coefficients:\n",
      "[[ 0.00152712]\n",
      " [ 0.01792046]\n",
      " [-0.00636518]\n",
      " [-0.00040998]\n",
      " [ 0.16381699]\n",
      " [-0.03419006]]\n",
      "Binary Logistic Regression Object with coefficients:\n",
      "[[-0.00109255]\n",
      " [-0.03363519]\n",
      " [-0.01052506]\n",
      " [-0.01288879]\n",
      " [-0.0302366 ]\n",
      " [ 0.03843873]]\n",
      "0.01 E\n",
      "[(1, 2), (1, 3), (2, 3)] ITER\n",
      "(array([2]), array([66232]))\n",
      "0.684563353061964\n",
      "(array([1, 2]), array([ 1111, 65121]))\n",
      "0.6820268148327092\n",
      "Binary Logistic Regression Object with coefficients:\n",
      "[[-0.01278986]\n",
      " [-0.11192646]\n",
      " [ 0.12045092]\n",
      " [-0.23950815]\n",
      " [-1.25894657]\n",
      " [-0.01648951]]\n",
      "Binary Logistic Regression Object with coefficients:\n",
      "[[ 0.00945262]\n",
      " [ 0.12750354]\n",
      " [-0.05288618]\n",
      " [ 0.08916587]\n",
      " [ 1.61584937]\n",
      " [-0.49444101]]\n",
      "Binary Logistic Regression Object with coefficients:\n",
      "[[-0.00045244]\n",
      " [-0.20391378]\n",
      " [-0.08444939]\n",
      " [-0.121842  ]\n",
      " [-0.21489699]\n",
      " [ 0.14858683]]\n",
      "0.1 E\n",
      "[(1, 2), (1, 3), (2, 3)] ITER\n"
     ]
    },
    {
     "name": "stdout",
     "output_type": "stream",
     "text": [
      "(array([2]), array([66232]))\n",
      "0.684563353061964\n",
      "(array([1, 2]), array([45646, 20586]))\n",
      "0.3683415871482063\n",
      "Binary Logistic Regression Object with coefficients:\n",
      "[[-0.1522988 ]\n",
      " [-1.53913604]\n",
      " [ 0.85682547]\n",
      " [-3.07421352]\n",
      " [-9.6231859 ]\n",
      " [-0.20893808]]\n",
      "Binary Logistic Regression Object with coefficients:\n",
      "[[ 0.05703793]\n",
      " [ 0.15023349]\n",
      " [-0.29188237]\n",
      " [-0.87243445]\n",
      " [12.28004937]\n",
      " [-5.07006923]]\n",
      "Binary Logistic Regression Object with coefficients:\n",
      "[[-0.06027382]\n",
      " [-3.17350192]\n",
      " [-0.77274114]\n",
      " [-3.74430422]\n",
      " [-1.83277095]\n",
      " [ 0.12531243]]\n",
      "0.01 C\n",
      "0.001 E\n",
      "[(1, 2), (1, 3), (2, 3)] ITER\n",
      "(array([2]), array([66232]))\n",
      "0.684563353061964\n",
      "(array([1, 2]), array([   28, 66204]))\n",
      "0.6846690421548496\n",
      "Binary Logistic Regression Object with coefficients:\n",
      "[[-0.0026519 ]\n",
      " [-0.0037277 ]\n",
      " [ 0.00228917]\n",
      " [-0.01964066]\n",
      " [-0.13328671]\n",
      " [ 0.01918324]]\n",
      "Binary Logistic Regression Object with coefficients:\n",
      "[[ 2.06398554e-03]\n",
      " [ 1.36829271e-02]\n",
      " [-3.29666618e-06]\n",
      " [ 2.38130506e-03]\n",
      " [ 1.45071027e-01]\n",
      " [-3.27846711e-02]]\n",
      "Binary Logistic Regression Object with coefficients:\n",
      "[[-1.64274157e-03]\n",
      " [-2.76902090e-02]\n",
      " [-2.42433219e-06]\n",
      " [-1.71126455e-02]\n",
      " [-1.26381057e-02]\n",
      " [ 3.51484937e-02]]\n",
      "0.01 E\n",
      "[(1, 2), (1, 3), (2, 3)] ITER\n",
      "(array([2, 3]), array([61352,  4880]))\n",
      "0.6621270684865322\n",
      "(array([2, 3]), array([59641,  6591]))\n",
      "0.6534152675443894\n",
      "Binary Logistic Regression Object with coefficients:\n",
      "[[-0.01576481]\n",
      " [-0.01142102]\n",
      " [ 0.0267442 ]\n",
      " [-0.09007371]\n",
      " [-0.9664444 ]\n",
      " [ 0.07594929]]\n",
      "Binary Logistic Regression Object with coefficients:\n",
      "[[ 0.01468636]\n",
      " [ 0.10226017]\n",
      " [-0.01169266]\n",
      " [ 0.13284121]\n",
      " [ 1.18821805]\n",
      " [-0.50081183]]\n",
      "Binary Logistic Regression Object with coefficients:\n",
      "[[-0.00452668]\n",
      " [-0.05906639]\n",
      " [ 0.00112211]\n",
      " [ 0.01236305]\n",
      " [-0.05190307]\n",
      " [ 0.18259878]]\n",
      "0.1 E\n",
      "[(1, 2), (1, 3), (2, 3)] ITER\n",
      "(array([2]), array([66232]))\n",
      "0.684563353061964\n",
      "(array([2]), array([66232]))\n",
      "0.684563353061964\n",
      "Binary Logistic Regression Object with coefficients:\n",
      "[[-0.32646504]\n",
      " [-0.3634087 ]\n",
      " [ 0.16613658]\n",
      " [-0.87690942]\n",
      " [-2.66527243]\n",
      " [ 0.22641567]]\n",
      "Binary Logistic Regression Object with coefficients:\n",
      "[[ 0.30801845]\n",
      " [ 2.52282466]\n",
      " [ 0.19865858]\n",
      " [ 3.96391629]\n",
      " [ 3.37411174]\n",
      " [-0.6135679 ]]\n",
      "Binary Logistic Regression Object with coefficients:\n",
      "[[-0.23634716]\n",
      " [-0.91767155]\n",
      " [-0.03761124]\n",
      " [-1.31737934]\n",
      " [-0.25653784]\n",
      " [ 1.02889327]]\n",
      "0.1 C\n",
      "0.001 E\n",
      "[(1, 2), (1, 3), (2, 3)] ITER\n",
      "(array([2]), array([66232]))\n",
      "0.684563353061964\n",
      "(array([1, 2]), array([    3, 66229]))\n",
      "0.6845180577364416\n",
      "Binary Logistic Regression Object with coefficients:\n",
      "[[-6.88880303e-03]\n",
      " [-1.49576091e-04]\n",
      " [ 5.34251551e-05]\n",
      " [-2.68699558e-02]\n",
      " [-7.56718812e-05]\n",
      " [ 7.17550065e-03]]\n",
      "Binary Logistic Regression Object with coefficients:\n",
      "[[ 6.72251796e-03]\n",
      " [-8.01912679e-06]\n",
      " [-3.37711575e-05]\n",
      " [ 1.62976774e-02]\n",
      " [ 1.84353794e-04]\n",
      " [-2.21950436e-02]]\n",
      "Binary Logistic Regression Object with coefficients:\n",
      "[[-6.04816862e-03]\n",
      " [-4.97405994e-05]\n",
      " [-7.04375307e-05]\n",
      " [-2.90780156e-02]\n",
      " [-1.04669612e-04]\n",
      " [ 1.67437963e-02]]\n",
      "0.01 E\n",
      "[(1, 2), (1, 3), (2, 3)] ITER\n",
      "(array([1, 2]), array([    3, 66229]))\n",
      "0.6845180577364416\n",
      "(array([1, 2]), array([ 7169, 59063]))\n",
      "0.6424990940934896\n",
      "Binary Logistic Regression Object with coefficients:\n",
      "[[-0.06966897]\n",
      " [ 0.00877477]\n",
      " [ 0.01168172]\n",
      " [-0.09667987]\n",
      " [-0.00638903]\n",
      " [ 0.08352119]]\n",
      "Binary Logistic Regression Object with coefficients:\n",
      "[[ 0.07564178]\n",
      " [ 0.07640353]\n",
      " [-0.00055876]\n",
      " [ 0.24317627]\n",
      " [ 0.01462861]\n",
      " [-0.43117648]]\n",
      "Binary Logistic Regression Object with coefficients:\n",
      "[[-0.06678053]\n",
      " [-0.11468298]\n",
      " [-0.00669749]\n",
      " [-0.30488744]\n",
      " [-0.00795527]\n",
      " [ 0.099403  ]]\n",
      "0.1 E\n",
      "[(1, 2), (1, 3), (2, 3)] ITER\n",
      "(array([1, 3]), array([57371,  8861]))\n",
      "0.16120606353424327\n",
      "(array([2]), array([66232]))\n",
      "0.684563353061964\n",
      "Binary Logistic Regression Object with coefficients:\n",
      "[[-2.55997532e+00]\n",
      " [ 3.09254581e-01]\n",
      " [ 9.97194199e-02]\n",
      " [-1.57831683e-04]\n",
      " [ 1.16595075e-02]\n",
      " [ 6.17686760e-01]]\n",
      "Binary Logistic Regression Object with coefficients:\n",
      "[[ 1.60093463]\n",
      " [-0.67533406]\n",
      " [-0.11842896]\n",
      " [-0.98015673]\n",
      " [-0.00581505]\n",
      " [-0.84551825]]\n",
      "Binary Logistic Regression Object with coefficients:\n",
      "[[-2.38275842]\n",
      " [ 0.2648068 ]\n",
      " [ 0.10471464]\n",
      " [-0.05719416]\n",
      " [ 0.06310322]\n",
      " [ 0.8349923 ]]\n",
      "3 C\n",
      "0.001 E\n",
      "[(1, 2), (1, 3), (2, 3)] ITER\n",
      "(array([2]), array([66232]))\n",
      "0.684563353061964\n",
      "(array([2]), array([66232]))\n",
      "0.684563353061964\n",
      "Binary Logistic Regression Object with coefficients:\n",
      "[[-0.12217508]\n",
      " [-0.00130235]\n",
      " [-0.00015431]\n",
      " [-0.01778613]\n",
      " [-0.00299932]\n",
      " [-0.00088514]]\n",
      "Binary Logistic Regression Object with coefficients:\n",
      "[[ 0.11963328]\n",
      " [ 0.00113027]\n",
      " [-0.00131465]\n",
      " [ 0.00653179]\n",
      " [ 0.00291576]\n",
      " [ 0.0028122 ]]\n",
      "Binary Logistic Regression Object with coefficients:\n",
      "[[-1.21492893e-01]\n",
      " [-2.01297282e-05]\n",
      " [-2.29354924e-04]\n",
      " [-1.76859892e-02]\n",
      " [ 1.43591950e-03]\n",
      " [ 4.62634461e-05]]\n",
      "0.01 E\n",
      "[(1, 2), (1, 3), (2, 3)] ITER\n",
      "(array([2]), array([66232]))\n",
      "0.684563353061964\n",
      "(array([2]), array([66232]))\n",
      "0.684563353061964\n",
      "Binary Logistic Regression Object with coefficients:\n",
      "[[-1.18713031]\n",
      " [-0.16251093]\n",
      " [ 0.02842472]\n",
      " [-0.34148071]\n",
      " [ 0.02345503]\n",
      " [-0.06565979]]\n",
      "Binary Logistic Regression Object with coefficients:\n",
      "[[ 0.60198918]\n",
      " [ 0.01236962]\n",
      " [ 0.01355672]\n",
      " [ 0.0757129 ]\n",
      " [ 0.0060313 ]\n",
      " [-0.02916663]]\n",
      "Binary Logistic Regression Object with coefficients:\n",
      "[[-1.20321647]\n",
      " [-0.18971972]\n",
      " [ 0.00232178]\n",
      " [-0.35069856]\n",
      " [ 0.01393653]\n",
      " [-0.06999449]]\n",
      "0.1 E\n",
      "[(1, 2), (1, 3), (2, 3)] ITER\n",
      "(array([2]), array([66232]))\n",
      "0.684563353061964\n",
      "(array([2]), array([66232]))\n",
      "0.684563353061964\n",
      "Binary Logistic Regression Object with coefficients:\n",
      "[[-44.26013407]\n",
      " [ -0.3436648 ]\n",
      " [  0.34149398]\n",
      " [ -0.8361801 ]\n",
      " [  0.31989417]\n",
      " [  0.05887485]]\n",
      "Binary Logistic Regression Object with coefficients:\n",
      "[[47.18260901]\n",
      " [-0.44218501]\n",
      " [-0.24087177]\n",
      " [-0.60570695]\n",
      " [-0.22370924]\n",
      " [-0.3492114 ]]\n",
      "Binary Logistic Regression Object with coefficients:\n",
      "[[-44.8187764 ]\n",
      " [ -0.3585619 ]\n",
      " [  0.33796095]\n",
      " [ -0.86364917]\n",
      " [  0.32779569]\n",
      " [  0.2178498 ]]\n",
      "BOTH\n",
      "0.001 C\n",
      "0.001 E\n",
      "[(1, 2), (1, 3), (2, 3)] ITER\n",
      "(array([2]), array([66232]))\n",
      "0.684563353061964\n",
      "(array([1, 2]), array([   63, 66169]))\n",
      "0.6846841405966905\n",
      "Binary Logistic Regression Object with coefficients:\n",
      "[[-0.00214301]\n",
      " [-0.00969978]\n",
      " [ 0.01764004]\n",
      " [-0.01636802]\n",
      " [-0.15345008]\n",
      " [ 0.02075314]]\n",
      "Binary Logistic Regression Object with coefficients:\n",
      "[[ 0.00152712]\n",
      " [ 0.01792046]\n",
      " [-0.00636518]\n",
      " [-0.00040998]\n",
      " [ 0.16381699]\n",
      " [-0.03419006]]\n",
      "Binary Logistic Regression Object with coefficients:\n",
      "[[-0.00109255]\n",
      " [-0.03363519]\n",
      " [-0.01052506]\n",
      " [-0.01288879]\n",
      " [-0.0302366 ]\n",
      " [ 0.03843873]]\n",
      "0.01 E\n",
      "[(1, 2), (1, 3), (2, 3)] ITER\n",
      "(array([2]), array([66232]))\n",
      "0.684563353061964\n",
      "(array([1, 2]), array([ 1111, 65121]))\n",
      "0.6820268148327092\n",
      "Binary Logistic Regression Object with coefficients:\n",
      "[[-0.01278986]\n",
      " [-0.11192646]\n",
      " [ 0.12045092]\n",
      " [-0.23950815]\n",
      " [-1.25894657]\n",
      " [-0.01648951]]\n",
      "Binary Logistic Regression Object with coefficients:\n",
      "[[ 0.00945262]\n",
      " [ 0.12750354]\n",
      " [-0.05288618]\n",
      " [ 0.08916587]\n",
      " [ 1.61584937]\n",
      " [-0.49444101]]\n",
      "Binary Logistic Regression Object with coefficients:\n",
      "[[-0.00045244]\n",
      " [-0.20391378]\n",
      " [-0.08444939]\n",
      " [-0.121842  ]\n",
      " [-0.21489699]\n",
      " [ 0.14858683]]\n",
      "0.1 E\n",
      "[(1, 2), (1, 3), (2, 3)] ITER\n",
      "(array([2]), array([66232]))\n",
      "0.684563353061964\n",
      "(array([1, 2]), array([45646, 20586]))\n",
      "0.3683415871482063\n",
      "Binary Logistic Regression Object with coefficients:\n",
      "[[-0.1522988 ]\n",
      " [-1.53913604]\n",
      " [ 0.85682547]\n",
      " [-3.07421352]\n",
      " [-9.6231859 ]\n",
      " [-0.20893808]]\n",
      "Binary Logistic Regression Object with coefficients:\n",
      "[[ 0.05703793]\n",
      " [ 0.15023349]\n",
      " [-0.29188237]\n",
      " [-0.87243445]\n",
      " [12.28004937]\n",
      " [-5.07006923]]\n",
      "Binary Logistic Regression Object with coefficients:\n",
      "[[-0.06027382]\n",
      " [-3.17350192]\n",
      " [-0.77274114]\n",
      " [-3.74430422]\n",
      " [-1.83277095]\n",
      " [ 0.12531243]]\n",
      "0.01 C\n",
      "0.001 E\n",
      "[(1, 2), (1, 3), (2, 3)] ITER\n",
      "(array([2]), array([66232]))\n",
      "0.684563353061964\n",
      "(array([1, 2]), array([   28, 66204]))\n",
      "0.6846690421548496\n",
      "Binary Logistic Regression Object with coefficients:\n",
      "[[-0.0026519 ]\n",
      " [-0.0037277 ]\n",
      " [ 0.00228917]\n",
      " [-0.01964066]\n",
      " [-0.13328671]\n",
      " [ 0.01918324]]\n",
      "Binary Logistic Regression Object with coefficients:\n",
      "[[ 2.06398554e-03]\n",
      " [ 1.36829271e-02]\n",
      " [-3.29666618e-06]\n",
      " [ 2.38130506e-03]\n",
      " [ 1.45071027e-01]\n",
      " [-3.27846711e-02]]\n",
      "Binary Logistic Regression Object with coefficients:\n",
      "[[-1.64274157e-03]\n",
      " [-2.76902090e-02]\n",
      " [-2.42433219e-06]\n",
      " [-1.71126455e-02]\n",
      " [-1.26381057e-02]\n",
      " [ 3.51484937e-02]]\n",
      "0.01 E\n",
      "[(1, 2), (1, 3), (2, 3)] ITER\n"
     ]
    },
    {
     "name": "stdout",
     "output_type": "stream",
     "text": [
      "(array([2, 3]), array([61352,  4880]))\n",
      "0.6621270684865322\n",
      "(array([2, 3]), array([59641,  6591]))\n",
      "0.6534152675443894\n",
      "Binary Logistic Regression Object with coefficients:\n",
      "[[-0.01576481]\n",
      " [-0.01142102]\n",
      " [ 0.0267442 ]\n",
      " [-0.09007371]\n",
      " [-0.9664444 ]\n",
      " [ 0.07594929]]\n",
      "Binary Logistic Regression Object with coefficients:\n",
      "[[ 0.01468636]\n",
      " [ 0.10226017]\n",
      " [-0.01169266]\n",
      " [ 0.13284121]\n",
      " [ 1.18821805]\n",
      " [-0.50081183]]\n",
      "Binary Logistic Regression Object with coefficients:\n",
      "[[-0.00452668]\n",
      " [-0.05906639]\n",
      " [ 0.00112211]\n",
      " [ 0.01236305]\n",
      " [-0.05190307]\n",
      " [ 0.18259878]]\n",
      "0.1 E\n",
      "[(1, 2), (1, 3), (2, 3)] ITER\n",
      "(array([2]), array([66232]))\n",
      "0.684563353061964\n",
      "(array([2]), array([66232]))\n",
      "0.684563353061964\n",
      "Binary Logistic Regression Object with coefficients:\n",
      "[[-0.32646504]\n",
      " [-0.3634087 ]\n",
      " [ 0.16613658]\n",
      " [-0.87690942]\n",
      " [-2.66527243]\n",
      " [ 0.22641567]]\n",
      "Binary Logistic Regression Object with coefficients:\n",
      "[[ 0.30801845]\n",
      " [ 2.52282466]\n",
      " [ 0.19865858]\n",
      " [ 3.96391629]\n",
      " [ 3.37411174]\n",
      " [-0.6135679 ]]\n",
      "Binary Logistic Regression Object with coefficients:\n",
      "[[-0.23634716]\n",
      " [-0.91767155]\n",
      " [-0.03761124]\n",
      " [-1.31737934]\n",
      " [-0.25653784]\n",
      " [ 1.02889327]]\n",
      "0.1 C\n",
      "0.001 E\n",
      "[(1, 2), (1, 3), (2, 3)] ITER\n",
      "(array([2]), array([66232]))\n",
      "0.684563353061964\n",
      "(array([1, 2]), array([    3, 66229]))\n",
      "0.6845180577364416\n",
      "Binary Logistic Regression Object with coefficients:\n",
      "[[-6.88880303e-03]\n",
      " [-1.49576091e-04]\n",
      " [ 5.34251551e-05]\n",
      " [-2.68699558e-02]\n",
      " [-7.56718812e-05]\n",
      " [ 7.17550065e-03]]\n",
      "Binary Logistic Regression Object with coefficients:\n",
      "[[ 6.72251796e-03]\n",
      " [-8.01912679e-06]\n",
      " [-3.37711575e-05]\n",
      " [ 1.62976774e-02]\n",
      " [ 1.84353794e-04]\n",
      " [-2.21950436e-02]]\n",
      "Binary Logistic Regression Object with coefficients:\n",
      "[[-6.04816862e-03]\n",
      " [-4.97405994e-05]\n",
      " [-7.04375307e-05]\n",
      " [-2.90780156e-02]\n",
      " [-1.04669612e-04]\n",
      " [ 1.67437963e-02]]\n",
      "0.01 E\n",
      "[(1, 2), (1, 3), (2, 3)] ITER\n",
      "(array([1, 2]), array([    3, 66229]))\n",
      "0.6845180577364416\n",
      "(array([1, 2]), array([ 7169, 59063]))\n",
      "0.6424990940934896\n",
      "Binary Logistic Regression Object with coefficients:\n",
      "[[-0.06966897]\n",
      " [ 0.00877477]\n",
      " [ 0.01168172]\n",
      " [-0.09667987]\n",
      " [-0.00638903]\n",
      " [ 0.08352119]]\n",
      "Binary Logistic Regression Object with coefficients:\n",
      "[[ 0.07564178]\n",
      " [ 0.07640353]\n",
      " [-0.00055876]\n",
      " [ 0.24317627]\n",
      " [ 0.01462861]\n",
      " [-0.43117648]]\n",
      "Binary Logistic Regression Object with coefficients:\n",
      "[[-0.06678053]\n",
      " [-0.11468298]\n",
      " [-0.00669749]\n",
      " [-0.30488744]\n",
      " [-0.00795527]\n",
      " [ 0.099403  ]]\n",
      "0.1 E\n",
      "[(1, 2), (1, 3), (2, 3)] ITER\n",
      "(array([1, 3]), array([57371,  8861]))\n",
      "0.16120606353424327\n",
      "(array([2]), array([66232]))\n",
      "0.684563353061964\n",
      "Binary Logistic Regression Object with coefficients:\n",
      "[[-2.55997532e+00]\n",
      " [ 3.09254581e-01]\n",
      " [ 9.97194199e-02]\n",
      " [-1.57831683e-04]\n",
      " [ 1.16595075e-02]\n",
      " [ 6.17686760e-01]]\n",
      "Binary Logistic Regression Object with coefficients:\n",
      "[[ 1.60093463]\n",
      " [-0.67533406]\n",
      " [-0.11842896]\n",
      " [-0.98015673]\n",
      " [-0.00581505]\n",
      " [-0.84551825]]\n",
      "Binary Logistic Regression Object with coefficients:\n",
      "[[-2.38275842]\n",
      " [ 0.2648068 ]\n",
      " [ 0.10471464]\n",
      " [-0.05719416]\n",
      " [ 0.06310322]\n",
      " [ 0.8349923 ]]\n",
      "3 C\n",
      "0.001 E\n",
      "[(1, 2), (1, 3), (2, 3)] ITER\n",
      "(array([2]), array([66232]))\n",
      "0.684563353061964\n",
      "(array([2]), array([66232]))\n",
      "0.684563353061964\n",
      "Binary Logistic Regression Object with coefficients:\n",
      "[[-0.12217508]\n",
      " [-0.00130235]\n",
      " [-0.00015431]\n",
      " [-0.01778613]\n",
      " [-0.00299932]\n",
      " [-0.00088514]]\n",
      "Binary Logistic Regression Object with coefficients:\n",
      "[[ 0.11963328]\n",
      " [ 0.00113027]\n",
      " [-0.00131465]\n",
      " [ 0.00653179]\n",
      " [ 0.00291576]\n",
      " [ 0.0028122 ]]\n",
      "Binary Logistic Regression Object with coefficients:\n",
      "[[-1.21492893e-01]\n",
      " [-2.01297282e-05]\n",
      " [-2.29354924e-04]\n",
      " [-1.76859892e-02]\n",
      " [ 1.43591950e-03]\n",
      " [ 4.62634461e-05]]\n",
      "0.01 E\n",
      "[(1, 2), (1, 3), (2, 3)] ITER\n",
      "(array([2]), array([66232]))\n",
      "0.684563353061964\n",
      "(array([2]), array([66232]))\n",
      "0.684563353061964\n",
      "Binary Logistic Regression Object with coefficients:\n",
      "[[-1.18713031]\n",
      " [-0.16251093]\n",
      " [ 0.02842472]\n",
      " [-0.34148071]\n",
      " [ 0.02345503]\n",
      " [-0.06565979]]\n",
      "Binary Logistic Regression Object with coefficients:\n",
      "[[ 0.60198918]\n",
      " [ 0.01236962]\n",
      " [ 0.01355672]\n",
      " [ 0.0757129 ]\n",
      " [ 0.0060313 ]\n",
      " [-0.02916663]]\n",
      "Binary Logistic Regression Object with coefficients:\n",
      "[[-1.20321647]\n",
      " [-0.18971972]\n",
      " [ 0.00232178]\n",
      " [-0.35069856]\n",
      " [ 0.01393653]\n",
      " [-0.06999449]]\n",
      "0.1 E\n",
      "[(1, 2), (1, 3), (2, 3)] ITER\n",
      "(array([2]), array([66232]))\n",
      "0.684563353061964\n",
      "(array([2]), array([66232]))\n",
      "0.684563353061964\n",
      "Binary Logistic Regression Object with coefficients:\n",
      "[[-44.26013407]\n",
      " [ -0.3436648 ]\n",
      " [  0.34149398]\n",
      " [ -0.8361801 ]\n",
      " [  0.31989417]\n",
      " [  0.05887485]]\n",
      "Binary Logistic Regression Object with coefficients:\n",
      "[[47.18260901]\n",
      " [-0.44218501]\n",
      " [-0.24087177]\n",
      " [-0.60570695]\n",
      " [-0.22370924]\n",
      " [-0.3492114 ]]\n",
      "Binary Logistic Regression Object with coefficients:\n",
      "[[-44.8187764 ]\n",
      " [ -0.3585619 ]\n",
      " [  0.33796095]\n",
      " [ -0.86364917]\n",
      " [  0.32779569]\n",
      " [  0.2178498 ]]\n",
      "[(9.476102113723755, 0.684563353061964), (9.476102113723755, 0.684563353061964), (9.778677940368652, 0.684563353061964), (9.778677940368652, 0.684563353061964), (9.551121950149536, 0.684563353061964), (9.551121950149536, 0.684563353061964), (9.461300134658813, 0.684563353061964), (9.461300134658813, 0.684563353061964), (9.50972580909729, 0.6621270684865322), (9.50972580909729, 0.6621270684865322), (9.436384916305542, 0.684563353061964), (9.436384916305542, 0.684563353061964), (9.416975975036621, 0.684563353061964), (9.416975975036621, 0.684563353061964), (9.434097051620483, 0.6845180577364416), (9.434097051620483, 0.6845180577364416), (9.387123823165894, 0.16120606353424327), (9.387123823165894, 0.16120606353424327), (9.49508810043335, 0.684563353061964), (9.49508810043335, 0.684563353061964), (9.612221002578735, 0.684563353061964), (9.612221002578735, 0.684563353061964), (9.525144100189209, 0.684563353061964), (9.525144100189209, 0.684563353061964), (9.490594863891602, 0.684563353061964), (9.490594863891602, 0.684563353061964), (9.497872114181519, 0.684563353061964), (9.497872114181519, 0.684563353061964), (9.45434284210205, 0.684563353061964), (9.45434284210205, 0.684563353061964), (9.400925874710083, 0.684563353061964), (9.400925874710083, 0.684563353061964), (10.047003269195557, 0.6621270684865322), (10.047003269195557, 0.6621270684865322), (9.476236581802368, 0.684563353061964), (9.476236581802368, 0.684563353061964), (9.446041107177734, 0.684563353061964), (9.446041107177734, 0.684563353061964), (9.468761205673218, 0.6845180577364416), (9.468761205673218, 0.6845180577364416), (9.456411838531494, 0.16120606353424327), (9.456411838531494, 0.16120606353424327), (9.422579050064087, 0.684563353061964), (9.422579050064087, 0.684563353061964), (9.413524866104126, 0.684563353061964), (9.413524866104126, 0.684563353061964), (9.550779819488525, 0.684563353061964), (9.550779819488525, 0.684563353061964), (9.42229413986206, 0.684563353061964), (9.42229413986206, 0.684563353061964), (9.431855201721191, 0.684563353061964), (9.431855201721191, 0.684563353061964), (9.428102016448975, 0.684563353061964), (9.428102016448975, 0.684563353061964), (9.517199993133545, 0.684563353061964), (9.517199993133545, 0.684563353061964), (9.449164867401123, 0.6621270684865322), (9.449164867401123, 0.6621270684865322), (9.90154767036438, 0.684563353061964), (9.90154767036438, 0.684563353061964), (9.459518909454346, 0.684563353061964), (9.459518909454346, 0.684563353061964), (9.440669059753418, 0.6845180577364416), (9.440669059753418, 0.6845180577364416), (9.410583019256592, 0.16120606353424327), (9.410583019256592, 0.16120606353424327), (9.579876184463501, 0.684563353061964), (9.579876184463501, 0.684563353061964), (9.544182062149048, 0.684563353061964), (9.544182062149048, 0.684563353061964), (9.447293281555176, 0.684563353061964), (9.447293281555176, 0.684563353061964)]\n"
     ]
    }
   ],
   "source": [
    "import time\n",
    "from sklearn.metrics import confusion_matrix\n",
    "lr_scores=[]\n",
    "ls_scores = []\n",
    "nt_scores = []\n",
    "lr_confusion_matrices = {}\n",
    "ls_confusion_matrices = {}\n",
    "nt_confusion_matrices = {}\n",
    "accuracy_scores = {}\n",
    "#this block here will get the times of the blocks and save them and their accuracy\n",
    "print(np.unique(y_train, return_counts=True))\n",
    "for reg in [\"L1\", \"L2\", \"BOTH\"]:\n",
    "    print(reg)\n",
    "    for c in [.001, .01, .1, 3]:\n",
    "        print(c, \"C\")\n",
    "        for e in [.001, .01, .1]:\n",
    "            print(e, \"E\")\n",
    "            start = time.time()\n",
    "            lr = RegularizedLogisticRegression(eta=e,\n",
    "                                               iterations=2500,\n",
    "                                               C=c, \n",
    "                                      reg = reg)\n",
    "            lr.fit(X_train, y_train)\n",
    "            yhat = lr.predict(X_test)\n",
    "            end = time.time()\n",
    "            lr_scores.append((end-start, accuracy_score(y_test, yhat)))\n",
    "            #generate confusion\n",
    "            print(np.unique(yhat, return_counts=True))\n",
    "            print(accuracy_score(y_test, yhat))\n",
    "            m = (confusion_matrix(y_test, yhat))\n",
    "            accuracy_scores[(reg, c, e, \"lr\")] = accuracy_score(y_test, yhat)\n",
    "            lr_confusion_matrices[(reg, c, e)] = m\n",
    "            \n",
    "            start = time.time()\n",
    "            ls = StochasticGradientDescent(eta=e,iterations=2500, size=1000, C=c,reg=reg)\n",
    "            ls.fit(X_train, y_train)\n",
    "            yhat = ls.predict(X_test)\n",
    "            print(np.unique(yhat, return_counts=True))\n",
    "            print(accuracy_score(y_test, yhat))\n",
    "            ls_confusion_matrices[(reg, c, e )] = confusion_matrix(y_test, yhat)\n",
    "            accuracy_scores[(reg, c, e, \"ls\")] = accuracy_score(y_test, yhat)\n",
    "            end = time.time()\n",
    "            ls_scores.append((end-start, accuracy_score(y_test, yhat)))\n",
    "            \n",
    "            start = time.time()\n",
    "            nt = Newton(eta=e,iterations=2500, C=c, reg = reg)\n",
    "            nt.fit(X_train, y_train)\n",
    "            yhat = nt.predict(X_test)\n",
    "            end = time.time()\n",
    "            nt_scores.append((end-start, accuracy_score(y_test, yhat)))\n",
    "            \n",
    "            #generate confusion\n",
    "            nt_confusion_matrices[(reg, c, e )] = confusion_matrix(y_test, yhat)\n",
    "            accuracy_scores[(reg, c, e, \"nt\")] = accuracy_score(y_test, yhat)\n",
    "            nt_scores.append((end-start, accuracy_score(y_test, yhat)))\n",
    "            \n",
    "print(nt_scores)\n",
    "            "
   ]
  },
  {
   "cell_type": "code",
   "execution_count": 28,
   "metadata": {
    "scrolled": false
   },
   "outputs": [
    {
     "data": {
      "application/vnd.plotly.v1+json": {
       "config": {
        "plotlyServerURL": "https://plot.ly"
       },
       "data": [
        {
         "type": "bar",
         "x": [
          "Steepest Descent",
          "Stochastic",
          "Newton's Method"
         ],
         "y": [
          9.515440119637383,
          3.0665839182005987,
          9.50670340988371
         ]
        }
       ],
       "layout": {
        "template": {
         "data": {
          "bar": [
           {
            "error_x": {
             "color": "#2a3f5f"
            },
            "error_y": {
             "color": "#2a3f5f"
            },
            "marker": {
             "line": {
              "color": "#E5ECF6",
              "width": 0.5
             }
            },
            "type": "bar"
           }
          ],
          "barpolar": [
           {
            "marker": {
             "line": {
              "color": "#E5ECF6",
              "width": 0.5
             }
            },
            "type": "barpolar"
           }
          ],
          "carpet": [
           {
            "aaxis": {
             "endlinecolor": "#2a3f5f",
             "gridcolor": "white",
             "linecolor": "white",
             "minorgridcolor": "white",
             "startlinecolor": "#2a3f5f"
            },
            "baxis": {
             "endlinecolor": "#2a3f5f",
             "gridcolor": "white",
             "linecolor": "white",
             "minorgridcolor": "white",
             "startlinecolor": "#2a3f5f"
            },
            "type": "carpet"
           }
          ],
          "choropleth": [
           {
            "colorbar": {
             "outlinewidth": 0,
             "ticks": ""
            },
            "type": "choropleth"
           }
          ],
          "contour": [
           {
            "colorbar": {
             "outlinewidth": 0,
             "ticks": ""
            },
            "colorscale": [
             [
              0,
              "#0d0887"
             ],
             [
              0.1111111111111111,
              "#46039f"
             ],
             [
              0.2222222222222222,
              "#7201a8"
             ],
             [
              0.3333333333333333,
              "#9c179e"
             ],
             [
              0.4444444444444444,
              "#bd3786"
             ],
             [
              0.5555555555555556,
              "#d8576b"
             ],
             [
              0.6666666666666666,
              "#ed7953"
             ],
             [
              0.7777777777777778,
              "#fb9f3a"
             ],
             [
              0.8888888888888888,
              "#fdca26"
             ],
             [
              1,
              "#f0f921"
             ]
            ],
            "type": "contour"
           }
          ],
          "contourcarpet": [
           {
            "colorbar": {
             "outlinewidth": 0,
             "ticks": ""
            },
            "type": "contourcarpet"
           }
          ],
          "heatmap": [
           {
            "colorbar": {
             "outlinewidth": 0,
             "ticks": ""
            },
            "colorscale": [
             [
              0,
              "#0d0887"
             ],
             [
              0.1111111111111111,
              "#46039f"
             ],
             [
              0.2222222222222222,
              "#7201a8"
             ],
             [
              0.3333333333333333,
              "#9c179e"
             ],
             [
              0.4444444444444444,
              "#bd3786"
             ],
             [
              0.5555555555555556,
              "#d8576b"
             ],
             [
              0.6666666666666666,
              "#ed7953"
             ],
             [
              0.7777777777777778,
              "#fb9f3a"
             ],
             [
              0.8888888888888888,
              "#fdca26"
             ],
             [
              1,
              "#f0f921"
             ]
            ],
            "type": "heatmap"
           }
          ],
          "heatmapgl": [
           {
            "colorbar": {
             "outlinewidth": 0,
             "ticks": ""
            },
            "colorscale": [
             [
              0,
              "#0d0887"
             ],
             [
              0.1111111111111111,
              "#46039f"
             ],
             [
              0.2222222222222222,
              "#7201a8"
             ],
             [
              0.3333333333333333,
              "#9c179e"
             ],
             [
              0.4444444444444444,
              "#bd3786"
             ],
             [
              0.5555555555555556,
              "#d8576b"
             ],
             [
              0.6666666666666666,
              "#ed7953"
             ],
             [
              0.7777777777777778,
              "#fb9f3a"
             ],
             [
              0.8888888888888888,
              "#fdca26"
             ],
             [
              1,
              "#f0f921"
             ]
            ],
            "type": "heatmapgl"
           }
          ],
          "histogram": [
           {
            "marker": {
             "colorbar": {
              "outlinewidth": 0,
              "ticks": ""
             }
            },
            "type": "histogram"
           }
          ],
          "histogram2d": [
           {
            "colorbar": {
             "outlinewidth": 0,
             "ticks": ""
            },
            "colorscale": [
             [
              0,
              "#0d0887"
             ],
             [
              0.1111111111111111,
              "#46039f"
             ],
             [
              0.2222222222222222,
              "#7201a8"
             ],
             [
              0.3333333333333333,
              "#9c179e"
             ],
             [
              0.4444444444444444,
              "#bd3786"
             ],
             [
              0.5555555555555556,
              "#d8576b"
             ],
             [
              0.6666666666666666,
              "#ed7953"
             ],
             [
              0.7777777777777778,
              "#fb9f3a"
             ],
             [
              0.8888888888888888,
              "#fdca26"
             ],
             [
              1,
              "#f0f921"
             ]
            ],
            "type": "histogram2d"
           }
          ],
          "histogram2dcontour": [
           {
            "colorbar": {
             "outlinewidth": 0,
             "ticks": ""
            },
            "colorscale": [
             [
              0,
              "#0d0887"
             ],
             [
              0.1111111111111111,
              "#46039f"
             ],
             [
              0.2222222222222222,
              "#7201a8"
             ],
             [
              0.3333333333333333,
              "#9c179e"
             ],
             [
              0.4444444444444444,
              "#bd3786"
             ],
             [
              0.5555555555555556,
              "#d8576b"
             ],
             [
              0.6666666666666666,
              "#ed7953"
             ],
             [
              0.7777777777777778,
              "#fb9f3a"
             ],
             [
              0.8888888888888888,
              "#fdca26"
             ],
             [
              1,
              "#f0f921"
             ]
            ],
            "type": "histogram2dcontour"
           }
          ],
          "mesh3d": [
           {
            "colorbar": {
             "outlinewidth": 0,
             "ticks": ""
            },
            "type": "mesh3d"
           }
          ],
          "parcoords": [
           {
            "line": {
             "colorbar": {
              "outlinewidth": 0,
              "ticks": ""
             }
            },
            "type": "parcoords"
           }
          ],
          "scatter": [
           {
            "marker": {
             "colorbar": {
              "outlinewidth": 0,
              "ticks": ""
             }
            },
            "type": "scatter"
           }
          ],
          "scatter3d": [
           {
            "line": {
             "colorbar": {
              "outlinewidth": 0,
              "ticks": ""
             }
            },
            "marker": {
             "colorbar": {
              "outlinewidth": 0,
              "ticks": ""
             }
            },
            "type": "scatter3d"
           }
          ],
          "scattercarpet": [
           {
            "marker": {
             "colorbar": {
              "outlinewidth": 0,
              "ticks": ""
             }
            },
            "type": "scattercarpet"
           }
          ],
          "scattergeo": [
           {
            "marker": {
             "colorbar": {
              "outlinewidth": 0,
              "ticks": ""
             }
            },
            "type": "scattergeo"
           }
          ],
          "scattergl": [
           {
            "marker": {
             "colorbar": {
              "outlinewidth": 0,
              "ticks": ""
             }
            },
            "type": "scattergl"
           }
          ],
          "scattermapbox": [
           {
            "marker": {
             "colorbar": {
              "outlinewidth": 0,
              "ticks": ""
             }
            },
            "type": "scattermapbox"
           }
          ],
          "scatterpolar": [
           {
            "marker": {
             "colorbar": {
              "outlinewidth": 0,
              "ticks": ""
             }
            },
            "type": "scatterpolar"
           }
          ],
          "scatterpolargl": [
           {
            "marker": {
             "colorbar": {
              "outlinewidth": 0,
              "ticks": ""
             }
            },
            "type": "scatterpolargl"
           }
          ],
          "scatterternary": [
           {
            "marker": {
             "colorbar": {
              "outlinewidth": 0,
              "ticks": ""
             }
            },
            "type": "scatterternary"
           }
          ],
          "surface": [
           {
            "colorbar": {
             "outlinewidth": 0,
             "ticks": ""
            },
            "colorscale": [
             [
              0,
              "#0d0887"
             ],
             [
              0.1111111111111111,
              "#46039f"
             ],
             [
              0.2222222222222222,
              "#7201a8"
             ],
             [
              0.3333333333333333,
              "#9c179e"
             ],
             [
              0.4444444444444444,
              "#bd3786"
             ],
             [
              0.5555555555555556,
              "#d8576b"
             ],
             [
              0.6666666666666666,
              "#ed7953"
             ],
             [
              0.7777777777777778,
              "#fb9f3a"
             ],
             [
              0.8888888888888888,
              "#fdca26"
             ],
             [
              1,
              "#f0f921"
             ]
            ],
            "type": "surface"
           }
          ],
          "table": [
           {
            "cells": {
             "fill": {
              "color": "#EBF0F8"
             },
             "line": {
              "color": "white"
             }
            },
            "header": {
             "fill": {
              "color": "#C8D4E3"
             },
             "line": {
              "color": "white"
             }
            },
            "type": "table"
           }
          ]
         },
         "layout": {
          "annotationdefaults": {
           "arrowcolor": "#2a3f5f",
           "arrowhead": 0,
           "arrowwidth": 1
          },
          "colorscale": {
           "diverging": [
            [
             0,
             "#8e0152"
            ],
            [
             0.1,
             "#c51b7d"
            ],
            [
             0.2,
             "#de77ae"
            ],
            [
             0.3,
             "#f1b6da"
            ],
            [
             0.4,
             "#fde0ef"
            ],
            [
             0.5,
             "#f7f7f7"
            ],
            [
             0.6,
             "#e6f5d0"
            ],
            [
             0.7,
             "#b8e186"
            ],
            [
             0.8,
             "#7fbc41"
            ],
            [
             0.9,
             "#4d9221"
            ],
            [
             1,
             "#276419"
            ]
           ],
           "sequential": [
            [
             0,
             "#0d0887"
            ],
            [
             0.1111111111111111,
             "#46039f"
            ],
            [
             0.2222222222222222,
             "#7201a8"
            ],
            [
             0.3333333333333333,
             "#9c179e"
            ],
            [
             0.4444444444444444,
             "#bd3786"
            ],
            [
             0.5555555555555556,
             "#d8576b"
            ],
            [
             0.6666666666666666,
             "#ed7953"
            ],
            [
             0.7777777777777778,
             "#fb9f3a"
            ],
            [
             0.8888888888888888,
             "#fdca26"
            ],
            [
             1,
             "#f0f921"
            ]
           ],
           "sequentialminus": [
            [
             0,
             "#0d0887"
            ],
            [
             0.1111111111111111,
             "#46039f"
            ],
            [
             0.2222222222222222,
             "#7201a8"
            ],
            [
             0.3333333333333333,
             "#9c179e"
            ],
            [
             0.4444444444444444,
             "#bd3786"
            ],
            [
             0.5555555555555556,
             "#d8576b"
            ],
            [
             0.6666666666666666,
             "#ed7953"
            ],
            [
             0.7777777777777778,
             "#fb9f3a"
            ],
            [
             0.8888888888888888,
             "#fdca26"
            ],
            [
             1,
             "#f0f921"
            ]
           ]
          },
          "colorway": [
           "#636efa",
           "#EF553B",
           "#00cc96",
           "#ab63fa",
           "#FFA15A",
           "#19d3f3",
           "#FF6692",
           "#B6E880",
           "#FF97FF",
           "#FECB52"
          ],
          "font": {
           "color": "#2a3f5f"
          },
          "geo": {
           "bgcolor": "white",
           "lakecolor": "white",
           "landcolor": "#E5ECF6",
           "showlakes": true,
           "showland": true,
           "subunitcolor": "white"
          },
          "hoverlabel": {
           "align": "left"
          },
          "hovermode": "closest",
          "mapbox": {
           "style": "light"
          },
          "paper_bgcolor": "white",
          "plot_bgcolor": "#E5ECF6",
          "polar": {
           "angularaxis": {
            "gridcolor": "white",
            "linecolor": "white",
            "ticks": ""
           },
           "bgcolor": "#E5ECF6",
           "radialaxis": {
            "gridcolor": "white",
            "linecolor": "white",
            "ticks": ""
           }
          },
          "scene": {
           "xaxis": {
            "backgroundcolor": "#E5ECF6",
            "gridcolor": "white",
            "gridwidth": 2,
            "linecolor": "white",
            "showbackground": true,
            "ticks": "",
            "zerolinecolor": "white"
           },
           "yaxis": {
            "backgroundcolor": "#E5ECF6",
            "gridcolor": "white",
            "gridwidth": 2,
            "linecolor": "white",
            "showbackground": true,
            "ticks": "",
            "zerolinecolor": "white"
           },
           "zaxis": {
            "backgroundcolor": "#E5ECF6",
            "gridcolor": "white",
            "gridwidth": 2,
            "linecolor": "white",
            "showbackground": true,
            "ticks": "",
            "zerolinecolor": "white"
           }
          },
          "shapedefaults": {
           "line": {
            "color": "#2a3f5f"
           }
          },
          "ternary": {
           "aaxis": {
            "gridcolor": "white",
            "linecolor": "white",
            "ticks": ""
           },
           "baxis": {
            "gridcolor": "white",
            "linecolor": "white",
            "ticks": ""
           },
           "bgcolor": "#E5ECF6",
           "caxis": {
            "gridcolor": "white",
            "linecolor": "white",
            "ticks": ""
           }
          },
          "title": {
           "x": 0.05
          },
          "xaxis": {
           "automargin": true,
           "gridcolor": "white",
           "linecolor": "white",
           "ticks": "",
           "zerolinecolor": "white",
           "zerolinewidth": 2
          },
          "yaxis": {
           "automargin": true,
           "gridcolor": "white",
           "linecolor": "white",
           "ticks": "",
           "zerolinecolor": "white",
           "zerolinewidth": 2
          }
         }
        },
        "title": {
         "text": "Average Run-time Per Method"
        }
       }
      },
      "text/html": [
       "<div>\n",
       "        \n",
       "        \n",
       "            <div id=\"6c4a5595-0b6e-4b4f-af4d-91c9a10ed394\" class=\"plotly-graph-div\" style=\"height:525px; width:100%;\"></div>\n",
       "            <script type=\"text/javascript\">\n",
       "                require([\"plotly\"], function(Plotly) {\n",
       "                    window.PLOTLYENV=window.PLOTLYENV || {};\n",
       "                    \n",
       "                if (document.getElementById(\"6c4a5595-0b6e-4b4f-af4d-91c9a10ed394\")) {\n",
       "                    Plotly.newPlot(\n",
       "                        '6c4a5595-0b6e-4b4f-af4d-91c9a10ed394',\n",
       "                        [{\"type\": \"bar\", \"x\": [\"Steepest Descent\", \"Stochastic\", \"Newton's Method\"], \"y\": [9.515440119637383, 3.0665839182005987, 9.50670340988371]}],\n",
       "                        {\"template\": {\"data\": {\"bar\": [{\"error_x\": {\"color\": \"#2a3f5f\"}, \"error_y\": {\"color\": \"#2a3f5f\"}, \"marker\": {\"line\": {\"color\": \"#E5ECF6\", \"width\": 0.5}}, \"type\": \"bar\"}], \"barpolar\": [{\"marker\": {\"line\": {\"color\": \"#E5ECF6\", \"width\": 0.5}}, \"type\": \"barpolar\"}], \"carpet\": [{\"aaxis\": {\"endlinecolor\": \"#2a3f5f\", \"gridcolor\": \"white\", \"linecolor\": \"white\", \"minorgridcolor\": \"white\", \"startlinecolor\": \"#2a3f5f\"}, \"baxis\": {\"endlinecolor\": \"#2a3f5f\", \"gridcolor\": \"white\", \"linecolor\": \"white\", \"minorgridcolor\": \"white\", \"startlinecolor\": \"#2a3f5f\"}, \"type\": \"carpet\"}], \"choropleth\": [{\"colorbar\": {\"outlinewidth\": 0, \"ticks\": \"\"}, \"type\": \"choropleth\"}], \"contour\": [{\"colorbar\": {\"outlinewidth\": 0, \"ticks\": \"\"}, \"colorscale\": [[0.0, \"#0d0887\"], [0.1111111111111111, \"#46039f\"], [0.2222222222222222, \"#7201a8\"], [0.3333333333333333, \"#9c179e\"], [0.4444444444444444, \"#bd3786\"], [0.5555555555555556, \"#d8576b\"], [0.6666666666666666, \"#ed7953\"], [0.7777777777777778, \"#fb9f3a\"], [0.8888888888888888, \"#fdca26\"], [1.0, \"#f0f921\"]], \"type\": \"contour\"}], \"contourcarpet\": [{\"colorbar\": {\"outlinewidth\": 0, \"ticks\": \"\"}, \"type\": \"contourcarpet\"}], \"heatmap\": [{\"colorbar\": {\"outlinewidth\": 0, \"ticks\": \"\"}, \"colorscale\": [[0.0, \"#0d0887\"], [0.1111111111111111, \"#46039f\"], [0.2222222222222222, \"#7201a8\"], [0.3333333333333333, \"#9c179e\"], [0.4444444444444444, \"#bd3786\"], [0.5555555555555556, \"#d8576b\"], [0.6666666666666666, \"#ed7953\"], [0.7777777777777778, \"#fb9f3a\"], [0.8888888888888888, \"#fdca26\"], [1.0, \"#f0f921\"]], \"type\": \"heatmap\"}], \"heatmapgl\": [{\"colorbar\": {\"outlinewidth\": 0, \"ticks\": \"\"}, \"colorscale\": [[0.0, \"#0d0887\"], [0.1111111111111111, \"#46039f\"], [0.2222222222222222, \"#7201a8\"], [0.3333333333333333, \"#9c179e\"], [0.4444444444444444, \"#bd3786\"], [0.5555555555555556, \"#d8576b\"], [0.6666666666666666, \"#ed7953\"], [0.7777777777777778, \"#fb9f3a\"], [0.8888888888888888, \"#fdca26\"], [1.0, \"#f0f921\"]], \"type\": \"heatmapgl\"}], \"histogram\": [{\"marker\": {\"colorbar\": {\"outlinewidth\": 0, \"ticks\": \"\"}}, \"type\": \"histogram\"}], \"histogram2d\": [{\"colorbar\": {\"outlinewidth\": 0, \"ticks\": \"\"}, \"colorscale\": [[0.0, \"#0d0887\"], [0.1111111111111111, \"#46039f\"], [0.2222222222222222, \"#7201a8\"], [0.3333333333333333, \"#9c179e\"], [0.4444444444444444, \"#bd3786\"], [0.5555555555555556, \"#d8576b\"], [0.6666666666666666, \"#ed7953\"], [0.7777777777777778, \"#fb9f3a\"], [0.8888888888888888, \"#fdca26\"], [1.0, \"#f0f921\"]], \"type\": \"histogram2d\"}], \"histogram2dcontour\": [{\"colorbar\": {\"outlinewidth\": 0, \"ticks\": \"\"}, \"colorscale\": [[0.0, \"#0d0887\"], [0.1111111111111111, \"#46039f\"], [0.2222222222222222, \"#7201a8\"], [0.3333333333333333, \"#9c179e\"], [0.4444444444444444, \"#bd3786\"], [0.5555555555555556, \"#d8576b\"], [0.6666666666666666, \"#ed7953\"], [0.7777777777777778, \"#fb9f3a\"], [0.8888888888888888, \"#fdca26\"], [1.0, \"#f0f921\"]], \"type\": \"histogram2dcontour\"}], \"mesh3d\": [{\"colorbar\": {\"outlinewidth\": 0, \"ticks\": \"\"}, \"type\": \"mesh3d\"}], \"parcoords\": [{\"line\": {\"colorbar\": {\"outlinewidth\": 0, \"ticks\": \"\"}}, \"type\": \"parcoords\"}], \"scatter\": [{\"marker\": {\"colorbar\": {\"outlinewidth\": 0, \"ticks\": \"\"}}, \"type\": \"scatter\"}], \"scatter3d\": [{\"line\": {\"colorbar\": {\"outlinewidth\": 0, \"ticks\": \"\"}}, \"marker\": {\"colorbar\": {\"outlinewidth\": 0, \"ticks\": \"\"}}, \"type\": \"scatter3d\"}], \"scattercarpet\": [{\"marker\": {\"colorbar\": {\"outlinewidth\": 0, \"ticks\": \"\"}}, \"type\": \"scattercarpet\"}], \"scattergeo\": [{\"marker\": {\"colorbar\": {\"outlinewidth\": 0, \"ticks\": \"\"}}, \"type\": \"scattergeo\"}], \"scattergl\": [{\"marker\": {\"colorbar\": {\"outlinewidth\": 0, \"ticks\": \"\"}}, \"type\": \"scattergl\"}], \"scattermapbox\": [{\"marker\": {\"colorbar\": {\"outlinewidth\": 0, \"ticks\": \"\"}}, \"type\": \"scattermapbox\"}], \"scatterpolar\": [{\"marker\": {\"colorbar\": {\"outlinewidth\": 0, \"ticks\": \"\"}}, \"type\": \"scatterpolar\"}], \"scatterpolargl\": [{\"marker\": {\"colorbar\": {\"outlinewidth\": 0, \"ticks\": \"\"}}, \"type\": \"scatterpolargl\"}], \"scatterternary\": [{\"marker\": {\"colorbar\": {\"outlinewidth\": 0, \"ticks\": \"\"}}, \"type\": \"scatterternary\"}], \"surface\": [{\"colorbar\": {\"outlinewidth\": 0, \"ticks\": \"\"}, \"colorscale\": [[0.0, \"#0d0887\"], [0.1111111111111111, \"#46039f\"], [0.2222222222222222, \"#7201a8\"], [0.3333333333333333, \"#9c179e\"], [0.4444444444444444, \"#bd3786\"], [0.5555555555555556, \"#d8576b\"], [0.6666666666666666, \"#ed7953\"], [0.7777777777777778, \"#fb9f3a\"], [0.8888888888888888, \"#fdca26\"], [1.0, \"#f0f921\"]], \"type\": \"surface\"}], \"table\": [{\"cells\": {\"fill\": {\"color\": \"#EBF0F8\"}, \"line\": {\"color\": \"white\"}}, \"header\": {\"fill\": {\"color\": \"#C8D4E3\"}, \"line\": {\"color\": \"white\"}}, \"type\": \"table\"}]}, \"layout\": {\"annotationdefaults\": {\"arrowcolor\": \"#2a3f5f\", \"arrowhead\": 0, \"arrowwidth\": 1}, \"colorscale\": {\"diverging\": [[0, \"#8e0152\"], [0.1, \"#c51b7d\"], [0.2, \"#de77ae\"], [0.3, \"#f1b6da\"], [0.4, \"#fde0ef\"], [0.5, \"#f7f7f7\"], [0.6, \"#e6f5d0\"], [0.7, \"#b8e186\"], [0.8, \"#7fbc41\"], [0.9, \"#4d9221\"], [1, \"#276419\"]], \"sequential\": [[0.0, \"#0d0887\"], [0.1111111111111111, \"#46039f\"], [0.2222222222222222, \"#7201a8\"], [0.3333333333333333, \"#9c179e\"], [0.4444444444444444, \"#bd3786\"], [0.5555555555555556, \"#d8576b\"], [0.6666666666666666, \"#ed7953\"], [0.7777777777777778, \"#fb9f3a\"], [0.8888888888888888, \"#fdca26\"], [1.0, \"#f0f921\"]], \"sequentialminus\": [[0.0, \"#0d0887\"], [0.1111111111111111, \"#46039f\"], [0.2222222222222222, \"#7201a8\"], [0.3333333333333333, \"#9c179e\"], [0.4444444444444444, \"#bd3786\"], [0.5555555555555556, \"#d8576b\"], [0.6666666666666666, \"#ed7953\"], [0.7777777777777778, \"#fb9f3a\"], [0.8888888888888888, \"#fdca26\"], [1.0, \"#f0f921\"]]}, \"colorway\": [\"#636efa\", \"#EF553B\", \"#00cc96\", \"#ab63fa\", \"#FFA15A\", \"#19d3f3\", \"#FF6692\", \"#B6E880\", \"#FF97FF\", \"#FECB52\"], \"font\": {\"color\": \"#2a3f5f\"}, \"geo\": {\"bgcolor\": \"white\", \"lakecolor\": \"white\", \"landcolor\": \"#E5ECF6\", \"showlakes\": true, \"showland\": true, \"subunitcolor\": \"white\"}, \"hoverlabel\": {\"align\": \"left\"}, \"hovermode\": \"closest\", \"mapbox\": {\"style\": \"light\"}, \"paper_bgcolor\": \"white\", \"plot_bgcolor\": \"#E5ECF6\", \"polar\": {\"angularaxis\": {\"gridcolor\": \"white\", \"linecolor\": \"white\", \"ticks\": \"\"}, \"bgcolor\": \"#E5ECF6\", \"radialaxis\": {\"gridcolor\": \"white\", \"linecolor\": \"white\", \"ticks\": \"\"}}, \"scene\": {\"xaxis\": {\"backgroundcolor\": \"#E5ECF6\", \"gridcolor\": \"white\", \"gridwidth\": 2, \"linecolor\": \"white\", \"showbackground\": true, \"ticks\": \"\", \"zerolinecolor\": \"white\"}, \"yaxis\": {\"backgroundcolor\": \"#E5ECF6\", \"gridcolor\": \"white\", \"gridwidth\": 2, \"linecolor\": \"white\", \"showbackground\": true, \"ticks\": \"\", \"zerolinecolor\": \"white\"}, \"zaxis\": {\"backgroundcolor\": \"#E5ECF6\", \"gridcolor\": \"white\", \"gridwidth\": 2, \"linecolor\": \"white\", \"showbackground\": true, \"ticks\": \"\", \"zerolinecolor\": \"white\"}}, \"shapedefaults\": {\"line\": {\"color\": \"#2a3f5f\"}}, \"ternary\": {\"aaxis\": {\"gridcolor\": \"white\", \"linecolor\": \"white\", \"ticks\": \"\"}, \"baxis\": {\"gridcolor\": \"white\", \"linecolor\": \"white\", \"ticks\": \"\"}, \"bgcolor\": \"#E5ECF6\", \"caxis\": {\"gridcolor\": \"white\", \"linecolor\": \"white\", \"ticks\": \"\"}}, \"title\": {\"x\": 0.05}, \"xaxis\": {\"automargin\": true, \"gridcolor\": \"white\", \"linecolor\": \"white\", \"ticks\": \"\", \"zerolinecolor\": \"white\", \"zerolinewidth\": 2}, \"yaxis\": {\"automargin\": true, \"gridcolor\": \"white\", \"linecolor\": \"white\", \"ticks\": \"\", \"zerolinecolor\": \"white\", \"zerolinewidth\": 2}}}, \"title\": {\"text\": \"Average Run-time Per Method\"}},\n",
       "                        {\"responsive\": true}\n",
       "                    ).then(function(){\n",
       "                            \n",
       "var gd = document.getElementById('6c4a5595-0b6e-4b4f-af4d-91c9a10ed394');\n",
       "var x = new MutationObserver(function (mutations, observer) {{\n",
       "        var display = window.getComputedStyle(gd).display;\n",
       "        if (!display || display === 'none') {{\n",
       "            console.log([gd, 'removed!']);\n",
       "            Plotly.purge(gd);\n",
       "            observer.disconnect();\n",
       "        }}\n",
       "}});\n",
       "\n",
       "// Listen for the removal of the full notebook cells\n",
       "var notebookContainer = gd.closest('#notebook-container');\n",
       "if (notebookContainer) {{\n",
       "    x.observe(notebookContainer, {childList: true});\n",
       "}}\n",
       "\n",
       "// Listen for the clearing of the current output cell\n",
       "var outputEl = gd.closest('.output');\n",
       "if (outputEl) {{\n",
       "    x.observe(outputEl, {childList: true});\n",
       "}}\n",
       "\n",
       "                        })\n",
       "                };\n",
       "                });\n",
       "            </script>\n",
       "        </div>"
      ]
     },
     "metadata": {},
     "output_type": "display_data"
    }
   ],
   "source": [
    "import plotly.graph_objects as go\n",
    "\n",
    "nt_avg_time = 0\n",
    "lr_avg_time = 0\n",
    "ls_avg_time = 0\n",
    "for i in range(len(nt_scores)):\n",
    "    nt_avg_time += nt_scores[i][0]\n",
    "nt_avg_time /= len(nt_scores)\n",
    "\n",
    "for i in range(len(lr_scores)):\n",
    "    lr_avg_time += lr_scores[i][0]\n",
    "lr_avg_time /= len(lr_scores)\n",
    "\n",
    "for i in range(len(ls_scores)):\n",
    "    ls_avg_time += ls_scores[i][0]\n",
    "ls_avg_time /= len(ls_scores)\n",
    "\n",
    "\n",
    "methods=['Steepest Descent', 'Stochastic', 'Newton\\'s Method']\n",
    "\n",
    "fig = go.Figure([go.Bar(x=methods, y=[lr_avg_time, ls_avg_time, nt_avg_time])])\n",
    "fig.update_layout(title_text='Average Run-time Per Method')\n",
    "fig.show()\n"
   ]
  },
  {
   "cell_type": "markdown",
   "metadata": {},
   "source": [
    "It appears that timewise, Stochastic Gradient Descent is the most efficient optimization technique, with Newton's Method and the Steepest Descent taking a similar amount of time."
   ]
  },
  {
   "cell_type": "code",
   "execution_count": 29,
   "metadata": {},
   "outputs": [
    {
     "ename": "ValueError",
     "evalue": "too many values to unpack (expected 2)",
     "output_type": "error",
     "traceback": [
      "\u001b[0;31m---------------------------------------------------------------------------\u001b[0m",
      "\u001b[0;31mValueError\u001b[0m                                Traceback (most recent call last)",
      "\u001b[0;32m<ipython-input-29-fedce4da5b98>\u001b[0m in \u001b[0;36m<module>\u001b[0;34m\u001b[0m\n\u001b[0;32m----> 1\u001b[0;31m \u001b[0;32mfor\u001b[0m \u001b[0mitem\u001b[0m\u001b[0;34m,\u001b[0m \u001b[0mval\u001b[0m \u001b[0;32min\u001b[0m \u001b[0mls_confusion_matrices\u001b[0m\u001b[0;34m:\u001b[0m\u001b[0;34m\u001b[0m\u001b[0;34m\u001b[0m\u001b[0m\n\u001b[0m\u001b[1;32m      2\u001b[0m     \u001b[0mprint\u001b[0m\u001b[0;34m(\u001b[0m\u001b[0mval\u001b[0m\u001b[0;34m)\u001b[0m\u001b[0;34m\u001b[0m\u001b[0;34m\u001b[0m\u001b[0m\n",
      "\u001b[0;31mValueError\u001b[0m: too many values to unpack (expected 2)"
     ]
    }
   ],
   "source": [
    "for item, val in ls_confusion_matrices:\n",
    "    print(val)"
   ]
  },
  {
   "cell_type": "code",
   "execution_count": 30,
   "metadata": {
    "scrolled": true
   },
   "outputs": [
    {
     "name": "stdout",
     "output_type": "stream",
     "text": [
      "matplotlib: 3.1.0\n",
      "L1\n",
      "(0.0, 1.0) LABELES\n",
      "(3.0, 0.0) LABELES\n"
     ]
    },
    {
     "data": {
      "text/plain": [
       "<Figure size 1120x480 with 4 Axes>"
      ]
     },
     "metadata": {},
     "output_type": "display_data"
    },
    {
     "name": "stdout",
     "output_type": "stream",
     "text": [
      "(0.0, 1.0) LABELES\n",
      "(3.0, 0.0) LABELES\n"
     ]
    },
    {
     "data": {
      "text/plain": [
       "<Figure size 1120x480 with 4 Axes>"
      ]
     },
     "metadata": {},
     "output_type": "display_data"
    },
    {
     "name": "stdout",
     "output_type": "stream",
     "text": [
      "(0.0, 1.0) LABELES\n",
      "(3.0, 0.0) LABELES\n"
     ]
    },
    {
     "data": {
      "text/plain": [
       "<Figure size 1120x480 with 4 Axes>"
      ]
     },
     "metadata": {},
     "output_type": "display_data"
    },
    {
     "name": "stdout",
     "output_type": "stream",
     "text": [
      "(0.0, 1.0) LABELES\n",
      "(3.0, 0.0) LABELES\n"
     ]
    },
    {
     "data": {
      "text/plain": [
       "<Figure size 1120x480 with 4 Axes>"
      ]
     },
     "metadata": {},
     "output_type": "display_data"
    },
    {
     "name": "stdout",
     "output_type": "stream",
     "text": [
      "(0.0, 1.0) LABELES\n",
      "(3.0, 0.0) LABELES\n"
     ]
    },
    {
     "data": {
      "text/plain": [
       "<Figure size 1120x480 with 4 Axes>"
      ]
     },
     "metadata": {},
     "output_type": "display_data"
    },
    {
     "name": "stdout",
     "output_type": "stream",
     "text": [
      "(0.0, 1.0) LABELES\n",
      "(3.0, 0.0) LABELES\n"
     ]
    },
    {
     "data": {
      "text/plain": [
       "<Figure size 1120x480 with 4 Axes>"
      ]
     },
     "metadata": {},
     "output_type": "display_data"
    },
    {
     "name": "stdout",
     "output_type": "stream",
     "text": [
      "(0.0, 1.0) LABELES\n",
      "(3.0, 0.0) LABELES\n"
     ]
    },
    {
     "data": {
      "text/plain": [
       "<Figure size 1120x480 with 4 Axes>"
      ]
     },
     "metadata": {},
     "output_type": "display_data"
    },
    {
     "name": "stdout",
     "output_type": "stream",
     "text": [
      "(0.0, 1.0) LABELES\n",
      "(3.0, 0.0) LABELES\n"
     ]
    },
    {
     "data": {
      "text/plain": [
       "<Figure size 1120x480 with 4 Axes>"
      ]
     },
     "metadata": {},
     "output_type": "display_data"
    },
    {
     "name": "stdout",
     "output_type": "stream",
     "text": [
      "(0.0, 1.0) LABELES\n",
      "(3.0, 0.0) LABELES\n"
     ]
    },
    {
     "data": {
      "text/plain": [
       "<Figure size 1120x480 with 4 Axes>"
      ]
     },
     "metadata": {},
     "output_type": "display_data"
    },
    {
     "name": "stdout",
     "output_type": "stream",
     "text": [
      "(0.0, 1.0) LABELES\n",
      "(3.0, 0.0) LABELES\n"
     ]
    },
    {
     "data": {
      "text/plain": [
       "<Figure size 1120x480 with 4 Axes>"
      ]
     },
     "metadata": {},
     "output_type": "display_data"
    },
    {
     "name": "stdout",
     "output_type": "stream",
     "text": [
      "(0.0, 1.0) LABELES\n",
      "(3.0, 0.0) LABELES\n"
     ]
    },
    {
     "data": {
      "text/plain": [
       "<Figure size 1120x480 with 4 Axes>"
      ]
     },
     "metadata": {},
     "output_type": "display_data"
    },
    {
     "name": "stdout",
     "output_type": "stream",
     "text": [
      "(0.0, 1.0) LABELES\n",
      "(3.0, 0.0) LABELES\n"
     ]
    },
    {
     "data": {
      "text/plain": [
       "<Figure size 1120x480 with 4 Axes>"
      ]
     },
     "metadata": {},
     "output_type": "display_data"
    },
    {
     "name": "stdout",
     "output_type": "stream",
     "text": [
      "L2\n",
      "(0.0, 1.0) LABELES\n",
      "(3.0, 0.0) LABELES\n"
     ]
    },
    {
     "data": {
      "text/plain": [
       "<Figure size 1120x480 with 4 Axes>"
      ]
     },
     "metadata": {},
     "output_type": "display_data"
    },
    {
     "name": "stdout",
     "output_type": "stream",
     "text": [
      "(0.0, 1.0) LABELES\n",
      "(3.0, 0.0) LABELES\n"
     ]
    },
    {
     "data": {
      "text/plain": [
       "<Figure size 1120x480 with 4 Axes>"
      ]
     },
     "metadata": {},
     "output_type": "display_data"
    },
    {
     "name": "stdout",
     "output_type": "stream",
     "text": [
      "(0.0, 1.0) LABELES\n",
      "(3.0, 0.0) LABELES\n"
     ]
    },
    {
     "data": {
      "text/plain": [
       "<Figure size 1120x480 with 4 Axes>"
      ]
     },
     "metadata": {},
     "output_type": "display_data"
    },
    {
     "name": "stdout",
     "output_type": "stream",
     "text": [
      "(0.0, 1.0) LABELES\n",
      "(3.0, 0.0) LABELES\n"
     ]
    },
    {
     "data": {
      "text/plain": [
       "<Figure size 1120x480 with 4 Axes>"
      ]
     },
     "metadata": {},
     "output_type": "display_data"
    },
    {
     "name": "stdout",
     "output_type": "stream",
     "text": [
      "(0.0, 1.0) LABELES\n",
      "(3.0, 0.0) LABELES\n"
     ]
    },
    {
     "data": {
      "text/plain": [
       "<Figure size 1120x480 with 4 Axes>"
      ]
     },
     "metadata": {},
     "output_type": "display_data"
    },
    {
     "name": "stdout",
     "output_type": "stream",
     "text": [
      "(0.0, 1.0) LABELES\n",
      "(3.0, 0.0) LABELES\n"
     ]
    },
    {
     "data": {
      "text/plain": [
       "<Figure size 1120x480 with 4 Axes>"
      ]
     },
     "metadata": {},
     "output_type": "display_data"
    },
    {
     "name": "stdout",
     "output_type": "stream",
     "text": [
      "(0.0, 1.0) LABELES\n",
      "(3.0, 0.0) LABELES\n"
     ]
    },
    {
     "data": {
      "text/plain": [
       "<Figure size 1120x480 with 4 Axes>"
      ]
     },
     "metadata": {},
     "output_type": "display_data"
    },
    {
     "name": "stdout",
     "output_type": "stream",
     "text": [
      "(0.0, 1.0) LABELES\n",
      "(3.0, 0.0) LABELES\n"
     ]
    },
    {
     "data": {
      "text/plain": [
       "<Figure size 1120x480 with 4 Axes>"
      ]
     },
     "metadata": {},
     "output_type": "display_data"
    },
    {
     "name": "stdout",
     "output_type": "stream",
     "text": [
      "(0.0, 1.0) LABELES\n",
      "(3.0, 0.0) LABELES\n"
     ]
    },
    {
     "data": {
      "text/plain": [
       "<Figure size 1120x480 with 4 Axes>"
      ]
     },
     "metadata": {},
     "output_type": "display_data"
    },
    {
     "name": "stdout",
     "output_type": "stream",
     "text": [
      "(0.0, 1.0) LABELES\n",
      "(3.0, 0.0) LABELES\n"
     ]
    },
    {
     "data": {
      "text/plain": [
       "<Figure size 1120x480 with 4 Axes>"
      ]
     },
     "metadata": {},
     "output_type": "display_data"
    },
    {
     "name": "stdout",
     "output_type": "stream",
     "text": [
      "(0.0, 1.0) LABELES\n",
      "(3.0, 0.0) LABELES\n"
     ]
    },
    {
     "data": {
      "text/plain": [
       "<Figure size 1120x480 with 4 Axes>"
      ]
     },
     "metadata": {},
     "output_type": "display_data"
    },
    {
     "name": "stdout",
     "output_type": "stream",
     "text": [
      "(0.0, 1.0) LABELES\n",
      "(3.0, 0.0) LABELES\n"
     ]
    },
    {
     "data": {
      "text/plain": [
       "<Figure size 1120x480 with 4 Axes>"
      ]
     },
     "metadata": {},
     "output_type": "display_data"
    },
    {
     "name": "stdout",
     "output_type": "stream",
     "text": [
      "BOTH\n",
      "(0.0, 1.0) LABELES\n",
      "(3.0, 0.0) LABELES\n"
     ]
    },
    {
     "data": {
      "text/plain": [
       "<Figure size 1120x480 with 4 Axes>"
      ]
     },
     "metadata": {},
     "output_type": "display_data"
    },
    {
     "name": "stdout",
     "output_type": "stream",
     "text": [
      "(0.0, 1.0) LABELES\n",
      "(3.0, 0.0) LABELES\n"
     ]
    },
    {
     "data": {
      "text/plain": [
       "<Figure size 1120x480 with 4 Axes>"
      ]
     },
     "metadata": {},
     "output_type": "display_data"
    },
    {
     "name": "stdout",
     "output_type": "stream",
     "text": [
      "(0.0, 1.0) LABELES\n",
      "(3.0, 0.0) LABELES\n"
     ]
    },
    {
     "data": {
      "text/plain": [
       "<Figure size 1120x480 with 4 Axes>"
      ]
     },
     "metadata": {},
     "output_type": "display_data"
    },
    {
     "name": "stdout",
     "output_type": "stream",
     "text": [
      "(0.0, 1.0) LABELES\n",
      "(3.0, 0.0) LABELES\n"
     ]
    },
    {
     "data": {
      "text/plain": [
       "<Figure size 1120x480 with 4 Axes>"
      ]
     },
     "metadata": {},
     "output_type": "display_data"
    },
    {
     "name": "stdout",
     "output_type": "stream",
     "text": [
      "(0.0, 1.0) LABELES\n",
      "(3.0, 0.0) LABELES\n"
     ]
    },
    {
     "data": {
      "text/plain": [
       "<Figure size 1120x480 with 4 Axes>"
      ]
     },
     "metadata": {},
     "output_type": "display_data"
    },
    {
     "name": "stdout",
     "output_type": "stream",
     "text": [
      "(0.0, 1.0) LABELES\n",
      "(3.0, 0.0) LABELES\n"
     ]
    },
    {
     "data": {
      "text/plain": [
       "<Figure size 1120x480 with 4 Axes>"
      ]
     },
     "metadata": {},
     "output_type": "display_data"
    },
    {
     "name": "stdout",
     "output_type": "stream",
     "text": [
      "(0.0, 1.0) LABELES\n",
      "(3.0, 0.0) LABELES\n"
     ]
    },
    {
     "data": {
      "text/plain": [
       "<Figure size 1120x480 with 4 Axes>"
      ]
     },
     "metadata": {},
     "output_type": "display_data"
    },
    {
     "name": "stdout",
     "output_type": "stream",
     "text": [
      "(0.0, 1.0) LABELES\n",
      "(3.0, 0.0) LABELES\n"
     ]
    },
    {
     "data": {
      "text/plain": [
       "<Figure size 1120x480 with 4 Axes>"
      ]
     },
     "metadata": {},
     "output_type": "display_data"
    },
    {
     "name": "stdout",
     "output_type": "stream",
     "text": [
      "(0.0, 1.0) LABELES\n",
      "(3.0, 0.0) LABELES\n"
     ]
    },
    {
     "data": {
      "text/plain": [
       "<Figure size 1120x480 with 4 Axes>"
      ]
     },
     "metadata": {},
     "output_type": "display_data"
    },
    {
     "name": "stdout",
     "output_type": "stream",
     "text": [
      "(0.0, 1.0) LABELES\n",
      "(3.0, 0.0) LABELES\n"
     ]
    },
    {
     "data": {
      "text/plain": [
       "<Figure size 1120x480 with 4 Axes>"
      ]
     },
     "metadata": {},
     "output_type": "display_data"
    },
    {
     "name": "stdout",
     "output_type": "stream",
     "text": [
      "(0.0, 1.0) LABELES\n",
      "(3.0, 0.0) LABELES\n"
     ]
    },
    {
     "data": {
      "text/plain": [
       "<Figure size 1120x480 with 4 Axes>"
      ]
     },
     "metadata": {},
     "output_type": "display_data"
    },
    {
     "name": "stdout",
     "output_type": "stream",
     "text": [
      "(0.0, 1.0) LABELES\n",
      "(3.0, 0.0) LABELES\n"
     ]
    },
    {
     "data": {
      "text/plain": [
       "<Figure size 1120x480 with 4 Axes>"
      ]
     },
     "metadata": {},
     "output_type": "display_data"
    }
   ],
   "source": [
    "#now we are going to plot it\n",
    "#how????\n",
    "#they said a confusion matrix\n",
    "#3x3 confusion matrix...\n",
    "#we can have 15 confusion matricies. good way to plot? thatll be  alot of em but a good cisualization\n",
    "import seaborn as sn\n",
    "import pandas as pd\n",
    "import matplotlib.pyplot as plt\n",
    "import matplotlib\n",
    "print('matplotlib: {}'.format(matplotlib.__version__))\n",
    "for reg in [\"L1\", \"L2\", \"BOTH\"]:\n",
    "    print(reg)\n",
    "    for c in [.001, .01, .1, 3]:\n",
    "        for e in [.001, .01, .1]:\n",
    "            #now we can print the matricies\n",
    "            #this may be a lot but its a good idea for our BEST one\n",
    "            l1 = ls_confusion_matrices[(reg, c,e)]\n",
    "            lr = lr_confusion_matrices[(reg, c,e)]\n",
    "            df_cm = pd.DataFrame(l1, index = [i for i in [\"Y1\", \"Y2\", \"Y3\"]],\n",
    "                      columns = [i for i in [\"Y1\", \"Y2\", \"Y3\"]])\n",
    "            plt.figure(num=None, figsize=(14, 6), dpi=80, facecolor='w', edgecolor='k')\n",
    "            ax = plt.subplot(1, 2, 1)\n",
    "            #ax.set_ylim(-0.5, -0.5)\n",
    "            plt.subplots_adjust(bottom=0.28)\n",
    "            print(ax.get_ylim(), \"LABELES\")\n",
    "            ax.set_xlabel('Predicted labels');ax.set_ylabel('True labels'); \n",
    "            #plt.gcf().subplots_adjust(top=0.15)\n",
    "            sn.heatmap(df_cm, annot=True)\n",
    "            ax = plt.subplot(1,2,2)\n",
    "            df_cm = pd.DataFrame(lr, index = [i for i in [\"Y1\", \"Y2\", \"Y3\"]],\n",
    "                      columns = [i for i in [\"Y1\", \"Y2\", \"Y3\"]])\n",
    "            sn.heatmap(df_cm, annot=True,)\n",
    "            print(ax.get_ylim(), \"LABELES\")\n",
    "            #ax.set_ylim(len(df_cm)-0.5, -0.5)\n",
    "            ax.set_xlabel('Predicted labels');\n",
    "            ax.set_ylabel('True labels')\n",
    "            plt.show()"
   ]
  },
  {
   "cell_type": "markdown",
   "metadata": {},
   "source": [
    "In our confusion matrices, you can identify the misidentified classes by their less saturated values where the rows are not correlated with themselves. In most of these matrices, misidentification happened fairly semmetrically, meaning we had an almost equal number of misclassifying a 'fit' as either too small or too large. This indicates that their is not a skew in our model, as it is not favoring one class over the others."
   ]
  },
  {
   "cell_type": "code",
   "execution_count": 31,
   "metadata": {},
   "outputs": [
    {
     "data": {
      "text/plain": [
       "0.684563353061964"
      ]
     },
     "execution_count": 31,
     "metadata": {},
     "output_type": "execute_result"
    }
   ],
   "source": [
    "from sklearn.datasets import make_multilabel_classification\n",
    "from sklearn.multiclass import OneVsRestClassifier\n",
    "from sklearn.svm import SVC\n",
    "from sklearn.decomposition import PCA\n",
    "from sklearn.cross_decomposition import CCA\n",
    "\n",
    "classif = OneVsRestClassifier(SVC(kernel='linear'))\n",
    "classif.fit(X_train, y_train)\n",
    "predict = classif.predict(X_test)\n",
    "accuracy_score(y_test, predict)"
   ]
  },
  {
   "cell_type": "code",
   "execution_count": null,
   "metadata": {},
   "outputs": [],
   "source": []
  }
 ],
 "metadata": {
  "kernelspec": {
   "display_name": "Python 3",
   "language": "python",
   "name": "python3"
  },
  "language_info": {
   "codemirror_mode": {
    "name": "ipython",
    "version": 3
   },
   "file_extension": ".py",
   "mimetype": "text/x-python",
   "name": "python",
   "nbconvert_exporter": "python",
   "pygments_lexer": "ipython3",
   "version": "3.7.3"
  }
 },
 "nbformat": 4,
 "nbformat_minor": 2
}
